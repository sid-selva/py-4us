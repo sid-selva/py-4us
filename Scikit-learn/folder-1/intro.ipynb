{
 "cells": [
  {
   "cell_type": "code",
   "execution_count": null,
   "metadata": {},
   "outputs": [],
   "source": [
    "import numpy as np\n",
    "from matplotlib import pyplot as plt\n",
    "\n",
    "from sklearn.datasets import make_checkerboard\n",
    "from sklearn.cluster import SpectralBiclustering\n",
    "from sklearn.metrics import consensus_score "
   ]
  },
  {
   "cell_type": "code",
   "execution_count": null,
   "metadata": {},
   "outputs": [],
   "source": [
    "n_clusters = (4, 3)\n",
    "data, rows, columns = make_checkerboard(\n",
    "    shape=(300, 300), n_clusters=n_clusters, noise=10, shuffle=False, random_state=0\n",
    ")\n"
   ]
  },
  {
   "cell_type": "code",
   "execution_count": null,
   "metadata": {},
   "outputs": [],
   "source": [
    "data"
   ]
  },
  {
   "cell_type": "code",
   "execution_count": null,
   "metadata": {},
   "outputs": [],
   "source": [
    "rows"
   ]
  },
  {
   "cell_type": "code",
   "execution_count": null,
   "metadata": {},
   "outputs": [],
   "source": [
    "plt.matshow(data, cmap=plt.cm.Blues)\n",
    "plt.title(\"Original dataset\")"
   ]
  },
  {
   "cell_type": "code",
   "execution_count": null,
   "metadata": {},
   "outputs": [],
   "source": [
    "# shuffle clusters\n",
    "rng = np.random.RandomState(0)\n",
    "row_idx = rng.permutation(data.shape[0])\n",
    "col_idx = rng.permutation(data.shape[1])\n",
    "data = data[row_idx][:, col_idx]\n",
    "\n",
    "plt.matshow(data, cmap=plt.cm.Blues)\n",
    "plt.title(\"Shuffled dataset\")"
   ]
  },
  {
   "cell_type": "code",
   "execution_count": null,
   "metadata": {},
   "outputs": [],
   "source": [
    "model = SpectralBiclustering(n_clusters=n_clusters, method=\"log\", random_state=0)\n",
    "model.fit(data)\n",
    "score = consensus_score(model.biclusters_, (rows[:, row_idx], columns[:, col_idx]))\n",
    "\n",
    "print(\"consensus score: {:.1f}\".format(score))\n",
    "\n",
    "fit_data = data[np.argsort(model.row_labels_)]\n",
    "fit_data = fit_data[:, np.argsort(model.column_labels_)]"
   ]
  },
  {
   "cell_type": "code",
   "execution_count": null,
   "metadata": {},
   "outputs": [],
   "source": [
    "plt.matshow(fit_data, cmap=plt.cm.Blues)\n",
    "plt.title(\"After biclustering; rearranged to show biclusters\")\n",
    "\n",
    "plt.matshow(\n",
    "    np.outer(np.sort(model.row_labels_) + 1, np.sort(model.column_labels_) + 1),\n",
    "    cmap=plt.cm.Blues,\n",
    ")\n",
    "plt.title(\"Checkerboard structure of rearranged data\")\n",
    "\n",
    "plt.show()"
   ]
  }
 ],
 "metadata": {
  "kernelspec": {
   "display_name": "Python 3.10.6 ('sklearn-env')",
   "language": "python",
   "name": "python3"
  },
  "language_info": {
   "codemirror_mode": {
    "name": "ipython",
    "version": 3
   },
   "file_extension": ".py",
   "mimetype": "text/x-python",
   "name": "python",
   "nbconvert_exporter": "python",
   "pygments_lexer": "ipython3",
   "version": "3.10.6"
  },
  "orig_nbformat": 4,
  "vscode": {
   "interpreter": {
    "hash": "d5b602bd1688810c7ccf4bbcdefb019244e6629c3725fd70edcfcd65db98fe1a"
   }
  }
 },
 "nbformat": 4,
 "nbformat_minor": 2
}
