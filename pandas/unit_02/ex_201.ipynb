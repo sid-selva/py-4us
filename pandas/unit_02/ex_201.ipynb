{
 "cells": [
  {
   "cell_type": "code",
   "execution_count": 1,
   "metadata": {},
   "outputs": [],
   "source": [
    "import pandas as pd\n",
    "import numpy as np"
   ]
  },
  {
   "cell_type": "code",
   "execution_count": 5,
   "metadata": {},
   "outputs": [
    {
     "data": {
      "text/plain": [
       "0       0.0\n",
       "1       0.1\n",
       "2       0.2\n",
       "3       0.3\n",
       "4       0.4\n",
       "       ... \n",
       "995    99.5\n",
       "996    99.6\n",
       "997    99.7\n",
       "998    99.8\n",
       "999    99.9\n",
       "Length: 1000, dtype: float64"
      ]
     },
     "execution_count": 5,
     "metadata": {},
     "output_type": "execute_result"
    }
   ],
   "source": [
    "pd.Series(range(1000))/10"
   ]
  },
  {
   "cell_type": "code",
   "execution_count": 6,
   "metadata": {},
   "outputs": [],
   "source": [
    "test_data = pd.DataFrame({'time' : pd.Series(range(1000))/10, \n",
    "                            'measurement' : np.sin(2 * np.pi * pd.Series(range(1000))/10/1)})"
   ]
  },
  {
   "cell_type": "code",
   "execution_count": 7,
   "metadata": {},
   "outputs": [
    {
     "data": {
      "text/html": [
       "<div>\n",
       "<style scoped>\n",
       "    .dataframe tbody tr th:only-of-type {\n",
       "        vertical-align: middle;\n",
       "    }\n",
       "\n",
       "    .dataframe tbody tr th {\n",
       "        vertical-align: top;\n",
       "    }\n",
       "\n",
       "    .dataframe thead th {\n",
       "        text-align: right;\n",
       "    }\n",
       "</style>\n",
       "<table border=\"1\" class=\"dataframe\">\n",
       "  <thead>\n",
       "    <tr style=\"text-align: right;\">\n",
       "      <th></th>\n",
       "      <th>time</th>\n",
       "      <th>measurement</th>\n",
       "    </tr>\n",
       "  </thead>\n",
       "  <tbody>\n",
       "    <tr>\n",
       "      <th>0</th>\n",
       "      <td>0.0</td>\n",
       "      <td>0.000000e+00</td>\n",
       "    </tr>\n",
       "    <tr>\n",
       "      <th>1</th>\n",
       "      <td>0.1</td>\n",
       "      <td>5.877853e-01</td>\n",
       "    </tr>\n",
       "    <tr>\n",
       "      <th>2</th>\n",
       "      <td>0.2</td>\n",
       "      <td>9.510565e-01</td>\n",
       "    </tr>\n",
       "    <tr>\n",
       "      <th>3</th>\n",
       "      <td>0.3</td>\n",
       "      <td>9.510565e-01</td>\n",
       "    </tr>\n",
       "    <tr>\n",
       "      <th>4</th>\n",
       "      <td>0.4</td>\n",
       "      <td>5.877853e-01</td>\n",
       "    </tr>\n",
       "    <tr>\n",
       "      <th>5</th>\n",
       "      <td>0.5</td>\n",
       "      <td>1.224647e-16</td>\n",
       "    </tr>\n",
       "    <tr>\n",
       "      <th>6</th>\n",
       "      <td>0.6</td>\n",
       "      <td>-5.877853e-01</td>\n",
       "    </tr>\n",
       "    <tr>\n",
       "      <th>7</th>\n",
       "      <td>0.7</td>\n",
       "      <td>-9.510565e-01</td>\n",
       "    </tr>\n",
       "    <tr>\n",
       "      <th>8</th>\n",
       "      <td>0.8</td>\n",
       "      <td>-9.510565e-01</td>\n",
       "    </tr>\n",
       "    <tr>\n",
       "      <th>9</th>\n",
       "      <td>0.9</td>\n",
       "      <td>-5.877853e-01</td>\n",
       "    </tr>\n",
       "    <tr>\n",
       "      <th>10</th>\n",
       "      <td>1.0</td>\n",
       "      <td>-2.449294e-16</td>\n",
       "    </tr>\n",
       "  </tbody>\n",
       "</table>\n",
       "</div>"
      ],
      "text/plain": [
       "    time   measurement\n",
       "0    0.0  0.000000e+00\n",
       "1    0.1  5.877853e-01\n",
       "2    0.2  9.510565e-01\n",
       "3    0.3  9.510565e-01\n",
       "4    0.4  5.877853e-01\n",
       "5    0.5  1.224647e-16\n",
       "6    0.6 -5.877853e-01\n",
       "7    0.7 -9.510565e-01\n",
       "8    0.8 -9.510565e-01\n",
       "9    0.9 -5.877853e-01\n",
       "10   1.0 -2.449294e-16"
      ]
     },
     "execution_count": 7,
     "metadata": {},
     "output_type": "execute_result"
    }
   ],
   "source": [
    "test_data.head(11)"
   ]
  },
  {
   "cell_type": "markdown",
   "metadata": {},
   "source": [
    "### Reading Dataframes and Manipulating the Index"
   ]
  },
  {
   "cell_type": "code",
   "execution_count": 9,
   "metadata": {},
   "outputs": [
    {
     "name": "stdout",
     "output_type": "stream",
     "text": [
      "                  product  wholesale_price   msrp  qty_ordered  qty_shipped\n",
      "0           skippys_dream             8.99  18.38          100          100\n",
      "1           just_the_beef             4.99  10.43          200          195\n",
      "2        potatos_and_lamb             5.19  11.43           50           50\n",
      "3  turkey_and_cranberries             5.98  12.00           50           50\n",
      "          product  wholesale_price   msrp  qty_ordered  qty_shipped\n",
      "0     cat_delight             4.95   9.98           50            0\n",
      "1   tuna_surprise             7.17  15.27          100          100\n",
      "2  hint_of_catnip             3.99   8.23           25           25\n",
      "3   roast_chicken             5.57  12.08           30           30\n"
     ]
    }
   ],
   "source": [
    "dog_food_orders = pd.read_csv('../../data/pandas_workshop/unit2/dog_food_orders.csv')\n",
    "cat_food_orders = pd.read_csv('../../data/pandas_workshop/unit2/cat_food_orders.csv')\n",
    "print(dog_food_orders.head(4))\n",
    "print(cat_food_orders.head(4))"
   ]
  },
  {
   "cell_type": "code",
   "execution_count": 10,
   "metadata": {},
   "outputs": [],
   "source": [
    "dog_food_orders['animal'] = 'dog'\n",
    "cat_food_orders['animal'] = 'cat'"
   ]
  },
  {
   "cell_type": "code",
   "execution_count": 13,
   "metadata": {},
   "outputs": [
    {
     "data": {
      "text/plain": [
       "(10, 6)"
      ]
     },
     "execution_count": 13,
     "metadata": {},
     "output_type": "execute_result"
    }
   ],
   "source": [
    "orders = pd.concat([dog_food_orders, cat_food_orders], axis=0)\n",
    "orders.shape"
   ]
  },
  {
   "cell_type": "code",
   "execution_count": 14,
   "metadata": {},
   "outputs": [],
   "source": [
    "orders.set_index('animal', inplace=True)"
   ]
  },
  {
   "cell_type": "code",
   "execution_count": 15,
   "metadata": {},
   "outputs": [
    {
     "name": "stdout",
     "output_type": "stream",
     "text": [
      "cat food orders due:  1158.75 \n",
      "dog food orders due:  2574.4\n"
     ]
    }
   ],
   "source": [
    "orders['net_due'] = (orders['wholesale_price'] * orders['qty_shipped']) \n",
    "print('cat food orders due: ', orders.loc['cat', 'net_due'].sum(), \n",
    "        '\\ndog food orders due: ', orders.loc['dog', 'net_due'].sum())"
   ]
  }
 ],
 "metadata": {
  "kernelspec": {
   "display_name": "Python 3.9.12 ('base')",
   "language": "python",
   "name": "python3"
  },
  "language_info": {
   "codemirror_mode": {
    "name": "ipython",
    "version": 3
   },
   "file_extension": ".py",
   "mimetype": "text/x-python",
   "name": "python",
   "nbconvert_exporter": "python",
   "pygments_lexer": "ipython3",
   "version": "3.9.12"
  },
  "orig_nbformat": 4,
  "vscode": {
   "interpreter": {
    "hash": "19d1d53a962d236aa061289c2ac16dc8e6d9648c89fe79f459ae9a3493bc67b4"
   }
  }
 },
 "nbformat": 4,
 "nbformat_minor": 2
}
