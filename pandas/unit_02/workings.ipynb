{
 "cells": [
  {
   "cell_type": "markdown",
   "metadata": {},
   "source": [
    "# Pandas Workshop 2 "
   ]
  },
  {
   "cell_type": "markdown",
   "metadata": {},
   "source": [
    "### Data Structures"
   ]
  },
  {
   "cell_type": "code",
   "execution_count": 2,
   "metadata": {},
   "outputs": [],
   "source": [
    "import pandas as pd"
   ]
  },
  {
   "cell_type": "markdown",
   "metadata": {},
   "source": [
    "data1 = pd.read_csv('../../data/pandas_workshop/unit2/US_GDP.csv')"
   ]
  },
  {
   "cell_type": "code",
   "execution_count": 3,
   "metadata": {},
   "outputs": [],
   "source": [
    "sample_df_construction = pd.DataFrame({'col1' : range(0, 100), 'col2' : range(1, 200, 2)})"
   ]
  },
  {
   "cell_type": "code",
   "execution_count": 4,
   "metadata": {},
   "outputs": [
    {
     "data": {
      "text/plain": [
       "pandas.core.frame.DataFrame"
      ]
     },
     "execution_count": 4,
     "metadata": {},
     "output_type": "execute_result"
    }
   ],
   "source": [
    "type(sample_df_construction)"
   ]
  },
  {
   "cell_type": "code",
   "execution_count": 5,
   "metadata": {},
   "outputs": [
    {
     "name": "stdout",
     "output_type": "stream",
     "text": [
      "\u001b[1;31mInit signature:\u001b[0m\n",
      "\u001b[0mpd\u001b[0m\u001b[1;33m.\u001b[0m\u001b[0mDataFrame\u001b[0m\u001b[1;33m(\u001b[0m\u001b[1;33m\n",
      "\u001b[0m    \u001b[0mdata\u001b[0m\u001b[1;33m=\u001b[0m\u001b[1;32mNone\u001b[0m\u001b[1;33m,\u001b[0m\u001b[1;33m\n",
      "\u001b[0m    \u001b[0mindex\u001b[0m\u001b[1;33m:\u001b[0m \u001b[1;34m'Axes | None'\u001b[0m \u001b[1;33m=\u001b[0m \u001b[1;32mNone\u001b[0m\u001b[1;33m,\u001b[0m\u001b[1;33m\n",
      "\u001b[0m    \u001b[0mcolumns\u001b[0m\u001b[1;33m:\u001b[0m \u001b[1;34m'Axes | None'\u001b[0m \u001b[1;33m=\u001b[0m \u001b[1;32mNone\u001b[0m\u001b[1;33m,\u001b[0m\u001b[1;33m\n",
      "\u001b[0m    \u001b[0mdtype\u001b[0m\u001b[1;33m:\u001b[0m \u001b[1;34m'Dtype | None'\u001b[0m \u001b[1;33m=\u001b[0m \u001b[1;32mNone\u001b[0m\u001b[1;33m,\u001b[0m\u001b[1;33m\n",
      "\u001b[0m    \u001b[0mcopy\u001b[0m\u001b[1;33m:\u001b[0m \u001b[1;34m'bool | None'\u001b[0m \u001b[1;33m=\u001b[0m \u001b[1;32mNone\u001b[0m\u001b[1;33m,\u001b[0m\u001b[1;33m\n",
      "\u001b[0m\u001b[1;33m)\u001b[0m\u001b[1;33m\u001b[0m\u001b[1;33m\u001b[0m\u001b[0m\n",
      "\u001b[1;31mDocstring:\u001b[0m     \n",
      "Two-dimensional, size-mutable, potentially heterogeneous tabular data.\n",
      "\n",
      "Data structure also contains labeled axes (rows and columns).\n",
      "Arithmetic operations align on both row and column labels. Can be\n",
      "thought of as a dict-like container for Series objects. The primary\n",
      "pandas data structure.\n",
      "\n",
      "Parameters\n",
      "----------\n",
      "data : ndarray (structured or homogeneous), Iterable, dict, or DataFrame\n",
      "    Dict can contain Series, arrays, constants, dataclass or list-like objects. If\n",
      "    data is a dict, column order follows insertion-order. If a dict contains Series\n",
      "    which have an index defined, it is aligned by its index.\n",
      "\n",
      "    .. versionchanged:: 0.25.0\n",
      "       If data is a list of dicts, column order follows insertion-order.\n",
      "\n",
      "index : Index or array-like\n",
      "    Index to use for resulting frame. Will default to RangeIndex if\n",
      "    no indexing information part of input data and no index provided.\n",
      "columns : Index or array-like\n",
      "    Column labels to use for resulting frame when data does not have them,\n",
      "    defaulting to RangeIndex(0, 1, 2, ..., n). If data contains column labels,\n",
      "    will perform column selection instead.\n",
      "dtype : dtype, default None\n",
      "    Data type to force. Only a single dtype is allowed. If None, infer.\n",
      "copy : bool or None, default None\n",
      "    Copy data from inputs.\n",
      "    For dict data, the default of None behaves like ``copy=True``.  For DataFrame\n",
      "    or 2d ndarray input, the default of None behaves like ``copy=False``.\n",
      "\n",
      "    .. versionchanged:: 1.3.0\n",
      "\n",
      "See Also\n",
      "--------\n",
      "DataFrame.from_records : Constructor from tuples, also record arrays.\n",
      "DataFrame.from_dict : From dicts of Series, arrays, or dicts.\n",
      "read_csv : Read a comma-separated values (csv) file into DataFrame.\n",
      "read_table : Read general delimited file into DataFrame.\n",
      "read_clipboard : Read text from clipboard into DataFrame.\n",
      "\n",
      "Examples\n",
      "--------\n",
      "Constructing DataFrame from a dictionary.\n",
      "\n",
      ">>> d = {'col1': [1, 2], 'col2': [3, 4]}\n",
      ">>> df = pd.DataFrame(data=d)\n",
      ">>> df\n",
      "   col1  col2\n",
      "0     1     3\n",
      "1     2     4\n",
      "\n",
      "Notice that the inferred dtype is int64.\n",
      "\n",
      ">>> df.dtypes\n",
      "col1    int64\n",
      "col2    int64\n",
      "dtype: object\n",
      "\n",
      "To enforce a single dtype:\n",
      "\n",
      ">>> df = pd.DataFrame(data=d, dtype=np.int8)\n",
      ">>> df.dtypes\n",
      "col1    int8\n",
      "col2    int8\n",
      "dtype: object\n",
      "\n",
      "Constructing DataFrame from a dictionary including Series:\n",
      "\n",
      ">>> d = {'col1': [0, 1, 2, 3], 'col2': pd.Series([2, 3], index=[2, 3])}\n",
      ">>> pd.DataFrame(data=d, index=[0, 1, 2, 3])\n",
      "   col1  col2\n",
      "0     0   NaN\n",
      "1     1   NaN\n",
      "2     2   2.0\n",
      "3     3   3.0\n",
      "\n",
      "Constructing DataFrame from numpy ndarray:\n",
      "\n",
      ">>> df2 = pd.DataFrame(np.array([[1, 2, 3], [4, 5, 6], [7, 8, 9]]),\n",
      "...                    columns=['a', 'b', 'c'])\n",
      ">>> df2\n",
      "   a  b  c\n",
      "0  1  2  3\n",
      "1  4  5  6\n",
      "2  7  8  9\n",
      "\n",
      "Constructing DataFrame from a numpy ndarray that has labeled columns:\n",
      "\n",
      ">>> data = np.array([(1, 2, 3), (4, 5, 6), (7, 8, 9)],\n",
      "...                 dtype=[(\"a\", \"i4\"), (\"b\", \"i4\"), (\"c\", \"i4\")])\n",
      ">>> df3 = pd.DataFrame(data, columns=['c', 'a'])\n",
      "...\n",
      ">>> df3\n",
      "   c  a\n",
      "0  3  1\n",
      "1  6  4\n",
      "2  9  7\n",
      "\n",
      "Constructing DataFrame from dataclass:\n",
      "\n",
      ">>> from dataclasses import make_dataclass\n",
      ">>> Point = make_dataclass(\"Point\", [(\"x\", int), (\"y\", int)])\n",
      ">>> pd.DataFrame([Point(0, 0), Point(0, 3), Point(2, 3)])\n",
      "   x  y\n",
      "0  0  0\n",
      "1  0  3\n",
      "2  2  3\n",
      "\u001b[1;31mFile:\u001b[0m           c:\\programdata\\miniconda3\\lib\\site-packages\\pandas\\core\\frame.py\n",
      "\u001b[1;31mType:\u001b[0m           type\n",
      "\u001b[1;31mSubclasses:\u001b[0m     SubclassedDataFrame\n"
     ]
    }
   ],
   "source": [
    "?pd.DataFrame"
   ]
  },
  {
   "cell_type": "code",
   "execution_count": 6,
   "metadata": {},
   "outputs": [],
   "source": [
    "import numpy as np\n",
    "sample_np_array_1 = np.array(range(0, 100)) \n",
    "sample_np_array_2 = np.array(range(1, 200, 2))"
   ]
  },
  {
   "cell_type": "code",
   "execution_count": 7,
   "metadata": {},
   "outputs": [
    {
     "name": "stdout",
     "output_type": "stream",
     "text": [
      "[[0 1]\n",
      " [1 3]\n",
      " [2 5]\n",
      " [3 7]\n",
      " [4 9]]\n"
     ]
    }
   ],
   "source": [
    "sample_np_2D = np.column_stack((sample_np_array_1,sample_np_array_2))\n",
    "print(sample_np_2D[0:5])"
   ]
  },
  {
   "cell_type": "code",
   "execution_count": 8,
   "metadata": {},
   "outputs": [
    {
     "name": "stdout",
     "output_type": "stream",
     "text": [
      "   col1  col2\n",
      "0     0     1\n",
      "1     1     3\n",
      "2     2     5\n",
      "3     3     7\n",
      "4     4     9\n"
     ]
    }
   ],
   "source": [
    "sample_df_from_np = pd.DataFrame(sample_np_2D, columns = ['col1', 'col2']) \n",
    "print(sample_df_from_np.head())"
   ]
  },
  {
   "cell_type": "code",
   "execution_count": 9,
   "metadata": {},
   "outputs": [
    {
     "name": "stdout",
     "output_type": "stream",
     "text": [
      "[0, 1, 2, 3, 4, 5, 6, 7, 8, 9, 10, 11, 12, 13, 14, 15, 16, 17, 18, 19, 20, 21, 22, 23, 24, 25, 26, 27, 28, 29, 30, 31, 32, 33, 34, 35, 36, 37, 38, 39, 40, 41, 42, 43, 44, 45, 46, 47, 48, 49, 50, 51, 52, 53, 54, 55, 56, 57, 58, 59, 60, 61, 62, 63, 64, 65, 66, 67, 68, 69, 70, 71, 72, 73, 74, 75, 76, 77, 78, 79, 80, 81, 82, 83, 84, 85, 86, 87, 88, 89, 90, 91, 92, 93, 94, 95, 96, 97, 98, 99] [1, 3, 5, 7, 9, 11, 13, 15, 17, 19, 21, 23, 25, 27, 29, 31, 33, 35, 37, 39, 41, 43, 45, 47, 49, 51, 53, 55, 57, 59, 61, 63, 65, 67, 69, 71, 73, 75, 77, 79, 81, 83, 85, 87, 89, 91, 93, 95, 97, 99, 101, 103, 105, 107, 109, 111, 113, 115, 117, 119, 121, 123, 125, 127, 129, 131, 133, 135, 137, 139, 141, 143, 145, 147, 149, 151, 153, 155, 157, 159, 161, 163, 165, 167, 169, 171, 173, 175, 177, 179, 181, 183, 185, 187, 189, 191, 193, 195, 197, 199]\n"
     ]
    }
   ],
   "source": [
    "# List Comprehension \n",
    "list_1 = [i for i in range(100)] \n",
    "list_2 = [i for i in range(1, 200, 2)] \n",
    "print(list_1, list_2)"
   ]
  },
  {
   "cell_type": "code",
   "execution_count": 10,
   "metadata": {},
   "outputs": [],
   "source": [
    "# Zip two list in to a DF \n",
    "sample_df_from_iterable = pd.DataFrame(zip(list_1, list_2), columns = ['col1','col2'])"
   ]
  },
  {
   "cell_type": "code",
   "execution_count": 11,
   "metadata": {},
   "outputs": [
    {
     "name": "stdout",
     "output_type": "stream",
     "text": [
      "   col1  col2\n",
      "0     0     1\n",
      "1     1     3\n",
      "2     2     5\n",
      "3     3     7\n",
      "4     4     9\n",
      "    col1  col2\n",
      "95    95   191\n",
      "96    96   193\n",
      "97    97   195\n",
      "98    98   197\n",
      "99    99   199\n"
     ]
    }
   ],
   "source": [
    "# Dictonaries \n",
    "sample_df_from_lists = pd.DataFrame({'col1' : list_1, 'col2' : list_2})\n",
    "print(sample_df_from_lists.head()) \n",
    "print(sample_df_from_lists.tail())"
   ]
  },
  {
   "cell_type": "code",
   "execution_count": 13,
   "metadata": {},
   "outputs": [
    {
     "data": {
      "text/plain": [
       "(0, 0)"
      ]
     },
     "execution_count": 13,
     "metadata": {},
     "output_type": "execute_result"
    }
   ],
   "source": [
    "empty_data = pd.DataFrame() \n",
    "empty_data.shape"
   ]
  },
  {
   "cell_type": "code",
   "execution_count": 12,
   "metadata": {},
   "outputs": [],
   "source": [
    "my_array = np.array([[0, 1, 2, 3, 4], [2, 3, 4, 5, 6]])"
   ]
  },
  {
   "cell_type": "code",
   "execution_count": 15,
   "metadata": {},
   "outputs": [
    {
     "data": {
      "text/html": [
       "<div>\n",
       "<style scoped>\n",
       "    .dataframe tbody tr th:only-of-type {\n",
       "        vertical-align: middle;\n",
       "    }\n",
       "\n",
       "    .dataframe tbody tr th {\n",
       "        vertical-align: top;\n",
       "    }\n",
       "\n",
       "    .dataframe thead th {\n",
       "        text-align: right;\n",
       "    }\n",
       "</style>\n",
       "<table border=\"1\" class=\"dataframe\">\n",
       "  <thead>\n",
       "    <tr style=\"text-align: right;\">\n",
       "      <th></th>\n",
       "      <th>0</th>\n",
       "      <th>1</th>\n",
       "      <th>2</th>\n",
       "      <th>3</th>\n",
       "      <th>4</th>\n",
       "    </tr>\n",
       "  </thead>\n",
       "  <tbody>\n",
       "    <tr>\n",
       "      <th>0</th>\n",
       "      <td>0</td>\n",
       "      <td>1</td>\n",
       "      <td>2</td>\n",
       "      <td>3</td>\n",
       "      <td>4</td>\n",
       "    </tr>\n",
       "    <tr>\n",
       "      <th>1</th>\n",
       "      <td>2</td>\n",
       "      <td>3</td>\n",
       "      <td>4</td>\n",
       "      <td>5</td>\n",
       "      <td>6</td>\n",
       "    </tr>\n",
       "  </tbody>\n",
       "</table>\n",
       "</div>"
      ],
      "text/plain": [
       "   0  1  2  3  4\n",
       "0  0  1  2  3  4\n",
       "1  2  3  4  5  6"
      ]
     },
     "execution_count": 15,
     "metadata": {},
     "output_type": "execute_result"
    }
   ],
   "source": [
    "filled_dataframe=pd.concat([empty_data,pd.DataFrame(my_array)],axis=0) \n",
    "filled_dataframe"
   ]
  },
  {
   "cell_type": "markdown",
   "metadata": {},
   "source": [
    "#### Index and Columns"
   ]
  },
  {
   "cell_type": "code",
   "execution_count": 23,
   "metadata": {},
   "outputs": [
    {
     "data": {
      "text/plain": [
       "RangeIndex(start=0, stop=100, step=1)"
      ]
     },
     "execution_count": 23,
     "metadata": {},
     "output_type": "execute_result"
    }
   ],
   "source": [
    "sample_df_from_lists.index"
   ]
  },
  {
   "cell_type": "code",
   "execution_count": 24,
   "metadata": {},
   "outputs": [],
   "source": [
    "letters = pd.Series(map(chr, range(97, 122))) "
   ]
  },
  {
   "cell_type": "code",
   "execution_count": 25,
   "metadata": {},
   "outputs": [],
   "source": [
    "letters = pd.DataFrame({'letter' :\n",
    "(list(letters) + list(letters * 2) + list(letters * 3) + list(letters*4))})"
   ]
  },
  {
   "cell_type": "markdown",
   "metadata": {},
   "source": [
    "DataFrames, the general notation is some_dataframe. iloc[rows, columns] if using all integers, or logical (Boolean) expressions, \n",
    "\n",
    "and some_dataframe.loc[rows, columns] if using labels."
   ]
  },
  {
   "cell_type": "code",
   "execution_count": 31,
   "metadata": {},
   "outputs": [
    {
     "data": {
      "text/plain": [
       "0        a\n",
       "1        b\n",
       "2        c\n",
       "3        d\n",
       "4        e\n",
       "      ... \n",
       "95    uuuu\n",
       "96    vvvv\n",
       "97    wwww\n",
       "98    xxxx\n",
       "99    yyyy\n",
       "Name: letter, Length: 100, dtype: object"
      ]
     },
     "execution_count": 31,
     "metadata": {},
     "output_type": "execute_result"
    }
   ],
   "source": [
    "letters.iloc[:, 0]\n",
    "# All rows and first column"
   ]
  },
  {
   "cell_type": "code",
   "execution_count": 32,
   "metadata": {},
   "outputs": [
    {
     "name": "stdout",
     "output_type": "stream",
     "text": [
      "Index(['a', 'b', 'c', 'd', 'e', 'f', 'g', 'h', 'i', 'j', 'k', 'l', 'm', 'n',\n",
      "       'o', 'p', 'q', 'r', 's', 't', 'u', 'v', 'w', 'x', 'y', 'aa', 'bb', 'cc',\n",
      "       'dd', 'ee', 'ff', 'gg', 'hh', 'ii', 'jj', 'kk', 'll', 'mm', 'nn', 'oo',\n",
      "       'pp', 'qq', 'rr', 'ss', 'tt', 'uu', 'vv', 'ww', 'xx', 'yy', 'aaa',\n",
      "       'bbb', 'ccc', 'ddd', 'eee', 'fff', 'ggg', 'hhh', 'iii', 'jjj', 'kkk',\n",
      "       'lll', 'mmm', 'nnn', 'ooo', 'ppp', 'qqq', 'rrr', 'sss', 'ttt', 'uuu',\n",
      "       'vvv', 'www', 'xxx', 'yyy', 'aaaa', 'bbbb', 'cccc', 'dddd', 'eeee',\n",
      "       'ffff', 'gggg', 'hhhh', 'iiii', 'jjjj', 'kkkk', 'llll', 'mmmm', 'nnnn',\n",
      "       'oooo', 'pppp', 'qqqq', 'rrrr', 'ssss', 'tttt', 'uuuu', 'vvvv', 'wwww',\n",
      "       'xxxx', 'yyyy'],\n",
      "      dtype='object', name='letter')\n"
     ]
    }
   ],
   "source": [
    "# Set index of the DF \n",
    "sample_df_from_lists.set_index(keys = letters.iloc[:, 0], inplace = True)\n",
    "print(sample_df_from_lists.index)"
   ]
  },
  {
   "cell_type": "code",
   "execution_count": 33,
   "metadata": {},
   "outputs": [
    {
     "data": {
      "text/html": [
       "<div>\n",
       "<style scoped>\n",
       "    .dataframe tbody tr th:only-of-type {\n",
       "        vertical-align: middle;\n",
       "    }\n",
       "\n",
       "    .dataframe tbody tr th {\n",
       "        vertical-align: top;\n",
       "    }\n",
       "\n",
       "    .dataframe thead th {\n",
       "        text-align: right;\n",
       "    }\n",
       "</style>\n",
       "<table border=\"1\" class=\"dataframe\">\n",
       "  <thead>\n",
       "    <tr style=\"text-align: right;\">\n",
       "      <th></th>\n",
       "      <th>col1</th>\n",
       "      <th>col2</th>\n",
       "    </tr>\n",
       "    <tr>\n",
       "      <th>letter</th>\n",
       "      <th></th>\n",
       "      <th></th>\n",
       "    </tr>\n",
       "  </thead>\n",
       "  <tbody>\n",
       "    <tr>\n",
       "      <th>uuuu</th>\n",
       "      <td>95</td>\n",
       "      <td>191</td>\n",
       "    </tr>\n",
       "    <tr>\n",
       "      <th>vvvv</th>\n",
       "      <td>96</td>\n",
       "      <td>193</td>\n",
       "    </tr>\n",
       "    <tr>\n",
       "      <th>wwww</th>\n",
       "      <td>97</td>\n",
       "      <td>195</td>\n",
       "    </tr>\n",
       "    <tr>\n",
       "      <th>xxxx</th>\n",
       "      <td>98</td>\n",
       "      <td>197</td>\n",
       "    </tr>\n",
       "    <tr>\n",
       "      <th>yyyy</th>\n",
       "      <td>99</td>\n",
       "      <td>199</td>\n",
       "    </tr>\n",
       "  </tbody>\n",
       "</table>\n",
       "</div>"
      ],
      "text/plain": [
       "        col1  col2\n",
       "letter            \n",
       "uuuu      95   191\n",
       "vvvv      96   193\n",
       "wwww      97   195\n",
       "xxxx      98   197\n",
       "yyyy      99   199"
      ]
     },
     "execution_count": 33,
     "metadata": {},
     "output_type": "execute_result"
    }
   ],
   "source": [
    "sample_df_from_lists.loc['uuuu':'yyyy', :]"
   ]
  }
 ],
 "metadata": {
  "kernelspec": {
   "display_name": "Python 3.9.12 ('base')",
   "language": "python",
   "name": "python3"
  },
  "language_info": {
   "codemirror_mode": {
    "name": "ipython",
    "version": 3
   },
   "file_extension": ".py",
   "mimetype": "text/x-python",
   "name": "python",
   "nbconvert_exporter": "python",
   "pygments_lexer": "ipython3",
   "version": "3.9.12"
  },
  "orig_nbformat": 4,
  "vscode": {
   "interpreter": {
    "hash": "19d1d53a962d236aa061289c2ac16dc8e6d9648c89fe79f459ae9a3493bc67b4"
   }
  }
 },
 "nbformat": 4,
 "nbformat_minor": 2
}
