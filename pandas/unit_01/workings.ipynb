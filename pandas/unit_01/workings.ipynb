{
 "cells": [
  {
   "cell_type": "markdown",
   "metadata": {},
   "source": [
    "# Pandas Introduction"
   ]
  },
  {
   "cell_type": "code",
   "execution_count": 1,
   "metadata": {},
   "outputs": [],
   "source": [
    "import pandas as pd"
   ]
  },
  {
   "cell_type": "code",
   "execution_count": 2,
   "metadata": {},
   "outputs": [],
   "source": [
    "# Creating a Series \n",
    "ser1 = pd.Series([10,20,30,40,50])"
   ]
  },
  {
   "cell_type": "code",
   "execution_count": 3,
   "metadata": {},
   "outputs": [
    {
     "data": {
      "text/plain": [
       "0    10\n",
       "1    20\n",
       "2    30\n",
       "3    40\n",
       "4    50\n",
       "dtype: int64"
      ]
     },
     "execution_count": 3,
     "metadata": {},
     "output_type": "execute_result"
    }
   ],
   "source": [
    "# Displaying Series\n",
    "ser1\n",
    "# Numbers on the left are indices"
   ]
  },
  {
   "cell_type": "code",
   "execution_count": 4,
   "metadata": {},
   "outputs": [
    {
     "data": {
      "text/plain": [
       "0                            [10, 20]\n",
       "1                  [30, 40.5, series]\n",
       "2                            [50, 55]\n",
       "3    {'Name': 'Tess', 'Org': 'Packt'}\n",
       "dtype: object"
      ]
     },
     "execution_count": 4,
     "metadata": {},
     "output_type": "execute_result"
    }
   ],
   "source": [
    "ser2 = pd.Series([[10, 20], \n",
    "                [30, 40.5,'series'],\n",
    "                [50, 55],\n",
    "                {'Name':'Tess','Org':'Packt'}])\n",
    "\n",
    "ser2"
   ]
  },
  {
   "cell_type": "code",
   "execution_count": 5,
   "metadata": {},
   "outputs": [
    {
     "data": {
      "text/html": [
       "<div>\n",
       "<style scoped>\n",
       "    .dataframe tbody tr th:only-of-type {\n",
       "        vertical-align: middle;\n",
       "    }\n",
       "\n",
       "    .dataframe tbody tr th {\n",
       "        vertical-align: top;\n",
       "    }\n",
       "\n",
       "    .dataframe thead th {\n",
       "        text-align: right;\n",
       "    }\n",
       "</style>\n",
       "<table border=\"1\" class=\"dataframe\">\n",
       "  <thead>\n",
       "    <tr style=\"text-align: right;\">\n",
       "      <th></th>\n",
       "      <th>0</th>\n",
       "    </tr>\n",
       "  </thead>\n",
       "  <tbody>\n",
       "    <tr>\n",
       "      <th>0</th>\n",
       "      <td>10</td>\n",
       "    </tr>\n",
       "    <tr>\n",
       "      <th>1</th>\n",
       "      <td>20</td>\n",
       "    </tr>\n",
       "    <tr>\n",
       "      <th>2</th>\n",
       "      <td>30</td>\n",
       "    </tr>\n",
       "    <tr>\n",
       "      <th>3</th>\n",
       "      <td>40</td>\n",
       "    </tr>\n",
       "    <tr>\n",
       "      <th>4</th>\n",
       "      <td>50</td>\n",
       "    </tr>\n",
       "    <tr>\n",
       "      <th>5</th>\n",
       "      <td>60</td>\n",
       "    </tr>\n",
       "  </tbody>\n",
       "</table>\n",
       "</div>"
      ],
      "text/plain": [
       "    0\n",
       "0  10\n",
       "1  20\n",
       "2  30\n",
       "3  40\n",
       "4  50\n",
       "5  60"
      ]
     },
     "execution_count": 5,
     "metadata": {},
     "output_type": "execute_result"
    }
   ],
   "source": [
    "## Data Frame Object \n",
    "df = pd.DataFrame([10,20,30,40,50,60])\n",
    "\n",
    "df"
   ]
  },
  {
   "cell_type": "code",
   "execution_count": 6,
   "metadata": {},
   "outputs": [
    {
     "data": {
      "text/plain": [
       "(6, 1)"
      ]
     },
     "execution_count": 6,
     "metadata": {},
     "output_type": "execute_result"
    }
   ],
   "source": [
    "df.shape"
   ]
  },
  {
   "cell_type": "code",
   "execution_count": 7,
   "metadata": {},
   "outputs": [
    {
     "data": {
      "text/plain": [
       "RangeIndex(start=0, stop=1, step=1)"
      ]
     },
     "execution_count": 7,
     "metadata": {},
     "output_type": "execute_result"
    }
   ],
   "source": [
    "df.columns"
   ]
  },
  {
   "cell_type": "code",
   "execution_count": 8,
   "metadata": {},
   "outputs": [
    {
     "data": {
      "text/plain": [
       "RangeIndex(start=0, stop=6, step=1)"
      ]
     },
     "execution_count": 8,
     "metadata": {},
     "output_type": "execute_result"
    }
   ],
   "source": [
    "# Rows\n",
    "df.index"
   ]
  },
  {
   "cell_type": "code",
   "execution_count": 9,
   "metadata": {},
   "outputs": [
    {
     "name": "stdout",
     "output_type": "stream",
     "text": [
      "These are the names of the columns [0]\n",
      "These are the row indices [0, 1, 2, 3, 4, 5]\n"
     ]
    }
   ],
   "source": [
    "print(\"These are the names of the columns\",list(df.columns)) \n",
    "\n",
    "print(\"These are the row indices\",list(df.index))"
   ]
  },
  {
   "cell_type": "code",
   "execution_count": 10,
   "metadata": {},
   "outputs": [
    {
     "data": {
      "text/html": [
       "<div>\n",
       "<style scoped>\n",
       "    .dataframe tbody tr th:only-of-type {\n",
       "        vertical-align: middle;\n",
       "    }\n",
       "\n",
       "    .dataframe tbody tr th {\n",
       "        vertical-align: top;\n",
       "    }\n",
       "\n",
       "    .dataframe thead th {\n",
       "        text-align: right;\n",
       "    }\n",
       "</style>\n",
       "<table border=\"1\" class=\"dataframe\">\n",
       "  <thead>\n",
       "    <tr style=\"text-align: right;\">\n",
       "      <th></th>\n",
       "      <th>V1</th>\n",
       "    </tr>\n",
       "  </thead>\n",
       "  <tbody>\n",
       "    <tr>\n",
       "      <th>0</th>\n",
       "      <td>10</td>\n",
       "    </tr>\n",
       "    <tr>\n",
       "      <th>1</th>\n",
       "      <td>20</td>\n",
       "    </tr>\n",
       "    <tr>\n",
       "      <th>2</th>\n",
       "      <td>30</td>\n",
       "    </tr>\n",
       "    <tr>\n",
       "      <th>3</th>\n",
       "      <td>40</td>\n",
       "    </tr>\n",
       "    <tr>\n",
       "      <th>4</th>\n",
       "      <td>50</td>\n",
       "    </tr>\n",
       "    <tr>\n",
       "      <th>5</th>\n",
       "      <td>60</td>\n",
       "    </tr>\n",
       "  </tbody>\n",
       "</table>\n",
       "</div>"
      ],
      "text/plain": [
       "   V1\n",
       "0  10\n",
       "1  20\n",
       "2  30\n",
       "3  40\n",
       "4  50\n",
       "5  60"
      ]
     },
     "execution_count": 10,
     "metadata": {},
     "output_type": "execute_result"
    }
   ],
   "source": [
    "# Renaming Columns \n",
    "df.columns = ['V1']\n",
    "df"
   ]
  },
  {
   "cell_type": "code",
   "execution_count": 11,
   "metadata": {},
   "outputs": [
    {
     "data": {
      "text/html": [
       "<div>\n",
       "<style scoped>\n",
       "    .dataframe tbody tr th:only-of-type {\n",
       "        vertical-align: middle;\n",
       "    }\n",
       "\n",
       "    .dataframe tbody tr th {\n",
       "        vertical-align: top;\n",
       "    }\n",
       "\n",
       "    .dataframe thead th {\n",
       "        text-align: right;\n",
       "    }\n",
       "</style>\n",
       "<table border=\"1\" class=\"dataframe\">\n",
       "  <thead>\n",
       "    <tr style=\"text-align: right;\">\n",
       "      <th></th>\n",
       "      <th>V1</th>\n",
       "    </tr>\n",
       "  </thead>\n",
       "  <tbody>\n",
       "    <tr>\n",
       "      <th>R1</th>\n",
       "      <td>10</td>\n",
       "    </tr>\n",
       "    <tr>\n",
       "      <th>R2</th>\n",
       "      <td>20</td>\n",
       "    </tr>\n",
       "    <tr>\n",
       "      <th>R3</th>\n",
       "      <td>30</td>\n",
       "    </tr>\n",
       "    <tr>\n",
       "      <th>R4</th>\n",
       "      <td>40</td>\n",
       "    </tr>\n",
       "    <tr>\n",
       "      <th>R5</th>\n",
       "      <td>50</td>\n",
       "    </tr>\n",
       "    <tr>\n",
       "      <th>R6</th>\n",
       "      <td>60</td>\n",
       "    </tr>\n",
       "  </tbody>\n",
       "</table>\n",
       "</div>"
      ],
      "text/plain": [
       "    V1\n",
       "R1  10\n",
       "R2  20\n",
       "R3  30\n",
       "R4  40\n",
       "R5  50\n",
       "R6  60"
      ]
     },
     "execution_count": 11,
     "metadata": {},
     "output_type": "execute_result"
    }
   ],
   "source": [
    "# Change Row Names or Indices \n",
    "df.index = ['R1','R2','R3','R4','R5','R6']\n",
    "df"
   ]
  },
  {
   "cell_type": "code",
   "execution_count": 12,
   "metadata": {},
   "outputs": [
    {
     "name": "stdout",
     "output_type": "stream",
     "text": [
      "Shape of new data frame (2, 3)\n"
     ]
    },
    {
     "data": {
      "text/html": [
       "<div>\n",
       "<style scoped>\n",
       "    .dataframe tbody tr th:only-of-type {\n",
       "        vertical-align: middle;\n",
       "    }\n",
       "\n",
       "    .dataframe tbody tr th {\n",
       "        vertical-align: top;\n",
       "    }\n",
       "\n",
       "    .dataframe thead th {\n",
       "        text-align: right;\n",
       "    }\n",
       "</style>\n",
       "<table border=\"1\" class=\"dataframe\">\n",
       "  <thead>\n",
       "    <tr style=\"text-align: right;\">\n",
       "      <th></th>\n",
       "      <th>0</th>\n",
       "      <th>1</th>\n",
       "      <th>2</th>\n",
       "    </tr>\n",
       "  </thead>\n",
       "  <tbody>\n",
       "    <tr>\n",
       "      <th>0</th>\n",
       "      <td>10</td>\n",
       "      <td>15</td>\n",
       "      <td>20</td>\n",
       "    </tr>\n",
       "    <tr>\n",
       "      <th>1</th>\n",
       "      <td>100</td>\n",
       "      <td>200</td>\n",
       "      <td>300</td>\n",
       "    </tr>\n",
       "  </tbody>\n",
       "</table>\n",
       "</div>"
      ],
      "text/plain": [
       "     0    1    2\n",
       "0   10   15   20\n",
       "1  100  200  300"
      ]
     },
     "execution_count": 12,
     "metadata": {},
     "output_type": "execute_result"
    }
   ],
   "source": [
    "# Creating DataFrame with multiple columns \n",
    "\n",
    "df1 = pd.DataFrame([[10,15,20],[100,200,300]])\n",
    "print(\"Shape of new data frame\",df1.shape) \n",
    "\n",
    "df1"
   ]
  },
  {
   "cell_type": "code",
   "execution_count": 13,
   "metadata": {},
   "outputs": [
    {
     "data": {
      "text/html": [
       "<div>\n",
       "<style scoped>\n",
       "    .dataframe tbody tr th:only-of-type {\n",
       "        vertical-align: middle;\n",
       "    }\n",
       "\n",
       "    .dataframe tbody tr th {\n",
       "        vertical-align: top;\n",
       "    }\n",
       "\n",
       "    .dataframe thead th {\n",
       "        text-align: right;\n",
       "    }\n",
       "</style>\n",
       "<table border=\"1\" class=\"dataframe\">\n",
       "  <thead>\n",
       "    <tr style=\"text-align: right;\">\n",
       "      <th></th>\n",
       "      <th>V1</th>\n",
       "      <th>V2</th>\n",
       "      <th>V3</th>\n",
       "    </tr>\n",
       "  </thead>\n",
       "  <tbody>\n",
       "    <tr>\n",
       "      <th>R1</th>\n",
       "      <td>10</td>\n",
       "      <td>15</td>\n",
       "      <td>20</td>\n",
       "    </tr>\n",
       "    <tr>\n",
       "      <th>R2</th>\n",
       "      <td>100</td>\n",
       "      <td>200</td>\n",
       "      <td>300</td>\n",
       "    </tr>\n",
       "  </tbody>\n",
       "</table>\n",
       "</div>"
      ],
      "text/plain": [
       "     V1   V2   V3\n",
       "R1   10   15   20\n",
       "R2  100  200  300"
      ]
     },
     "execution_count": 13,
     "metadata": {},
     "output_type": "execute_result"
    }
   ],
   "source": [
    "df1 = pd.DataFrame([[10,15,20],[100,200,300]],columns=['V1','V2','V3'], index=['R1','R2'])\n",
    "df1"
   ]
  },
  {
   "cell_type": "markdown",
   "metadata": {},
   "source": [
    "## Working with Local Files "
   ]
  },
  {
   "cell_type": "code",
   "execution_count": 14,
   "metadata": {},
   "outputs": [],
   "source": [
    "# Reading a CSV File\n",
    "filename = 'data\\student-por.csv'\n",
    "studentData = pd.read_csv(filename, delimiter=';')"
   ]
  },
  {
   "cell_type": "code",
   "execution_count": 15,
   "metadata": {},
   "outputs": [
    {
     "name": "stdout",
     "output_type": "stream",
     "text": [
      "(649, 33)\n",
      "Index(['school', 'sex', 'age', 'address', 'famsize', 'Pstatus', 'Medu', 'Fedu',\n",
      "       'Mjob', 'Fjob', 'reason', 'guardian', 'traveltime', 'studytime',\n",
      "       'failures', 'schoolsup', 'famsup', 'paid', 'activities', 'nursery',\n",
      "       'higher', 'internet', 'romantic', 'famrel', 'freetime', 'goout', 'Dalc',\n",
      "       'Walc', 'health', 'absences', 'G1', 'G2', 'G3'],\n",
      "      dtype='object')\n"
     ]
    }
   ],
   "source": [
    "print(studentData.shape)\n",
    "studentData.index\n",
    "print(studentData.columns)"
   ]
  },
  {
   "cell_type": "code",
   "execution_count": 16,
   "metadata": {},
   "outputs": [
    {
     "data": {
      "text/html": [
       "<div>\n",
       "<style scoped>\n",
       "    .dataframe tbody tr th:only-of-type {\n",
       "        vertical-align: middle;\n",
       "    }\n",
       "\n",
       "    .dataframe tbody tr th {\n",
       "        vertical-align: top;\n",
       "    }\n",
       "\n",
       "    .dataframe thead th {\n",
       "        text-align: right;\n",
       "    }\n",
       "</style>\n",
       "<table border=\"1\" class=\"dataframe\">\n",
       "  <thead>\n",
       "    <tr style=\"text-align: right;\">\n",
       "      <th></th>\n",
       "      <th>school</th>\n",
       "      <th>sex</th>\n",
       "      <th>age</th>\n",
       "      <th>address</th>\n",
       "      <th>famsize</th>\n",
       "      <th>Pstatus</th>\n",
       "      <th>Medu</th>\n",
       "      <th>Fedu</th>\n",
       "      <th>Mjob</th>\n",
       "      <th>Fjob</th>\n",
       "      <th>...</th>\n",
       "      <th>famrel</th>\n",
       "      <th>freetime</th>\n",
       "      <th>goout</th>\n",
       "      <th>Dalc</th>\n",
       "      <th>Walc</th>\n",
       "      <th>health</th>\n",
       "      <th>absences</th>\n",
       "      <th>G1</th>\n",
       "      <th>G2</th>\n",
       "      <th>G3</th>\n",
       "    </tr>\n",
       "  </thead>\n",
       "  <tbody>\n",
       "    <tr>\n",
       "      <th>0</th>\n",
       "      <td>GP</td>\n",
       "      <td>F</td>\n",
       "      <td>18</td>\n",
       "      <td>U</td>\n",
       "      <td>GT3</td>\n",
       "      <td>A</td>\n",
       "      <td>4</td>\n",
       "      <td>4</td>\n",
       "      <td>at_home</td>\n",
       "      <td>teacher</td>\n",
       "      <td>...</td>\n",
       "      <td>4</td>\n",
       "      <td>3</td>\n",
       "      <td>4</td>\n",
       "      <td>1</td>\n",
       "      <td>1</td>\n",
       "      <td>3</td>\n",
       "      <td>4</td>\n",
       "      <td>0</td>\n",
       "      <td>11</td>\n",
       "      <td>11</td>\n",
       "    </tr>\n",
       "    <tr>\n",
       "      <th>1</th>\n",
       "      <td>GP</td>\n",
       "      <td>F</td>\n",
       "      <td>17</td>\n",
       "      <td>U</td>\n",
       "      <td>GT3</td>\n",
       "      <td>T</td>\n",
       "      <td>1</td>\n",
       "      <td>1</td>\n",
       "      <td>at_home</td>\n",
       "      <td>other</td>\n",
       "      <td>...</td>\n",
       "      <td>5</td>\n",
       "      <td>3</td>\n",
       "      <td>3</td>\n",
       "      <td>1</td>\n",
       "      <td>1</td>\n",
       "      <td>3</td>\n",
       "      <td>2</td>\n",
       "      <td>9</td>\n",
       "      <td>11</td>\n",
       "      <td>11</td>\n",
       "    </tr>\n",
       "    <tr>\n",
       "      <th>2</th>\n",
       "      <td>GP</td>\n",
       "      <td>F</td>\n",
       "      <td>15</td>\n",
       "      <td>U</td>\n",
       "      <td>LE3</td>\n",
       "      <td>T</td>\n",
       "      <td>1</td>\n",
       "      <td>1</td>\n",
       "      <td>at_home</td>\n",
       "      <td>other</td>\n",
       "      <td>...</td>\n",
       "      <td>4</td>\n",
       "      <td>3</td>\n",
       "      <td>2</td>\n",
       "      <td>2</td>\n",
       "      <td>3</td>\n",
       "      <td>3</td>\n",
       "      <td>6</td>\n",
       "      <td>12</td>\n",
       "      <td>13</td>\n",
       "      <td>12</td>\n",
       "    </tr>\n",
       "    <tr>\n",
       "      <th>3</th>\n",
       "      <td>GP</td>\n",
       "      <td>F</td>\n",
       "      <td>15</td>\n",
       "      <td>U</td>\n",
       "      <td>GT3</td>\n",
       "      <td>T</td>\n",
       "      <td>4</td>\n",
       "      <td>2</td>\n",
       "      <td>health</td>\n",
       "      <td>services</td>\n",
       "      <td>...</td>\n",
       "      <td>3</td>\n",
       "      <td>2</td>\n",
       "      <td>2</td>\n",
       "      <td>1</td>\n",
       "      <td>1</td>\n",
       "      <td>5</td>\n",
       "      <td>0</td>\n",
       "      <td>14</td>\n",
       "      <td>14</td>\n",
       "      <td>14</td>\n",
       "    </tr>\n",
       "    <tr>\n",
       "      <th>4</th>\n",
       "      <td>GP</td>\n",
       "      <td>F</td>\n",
       "      <td>16</td>\n",
       "      <td>U</td>\n",
       "      <td>GT3</td>\n",
       "      <td>T</td>\n",
       "      <td>3</td>\n",
       "      <td>3</td>\n",
       "      <td>other</td>\n",
       "      <td>other</td>\n",
       "      <td>...</td>\n",
       "      <td>4</td>\n",
       "      <td>3</td>\n",
       "      <td>2</td>\n",
       "      <td>1</td>\n",
       "      <td>2</td>\n",
       "      <td>5</td>\n",
       "      <td>0</td>\n",
       "      <td>11</td>\n",
       "      <td>13</td>\n",
       "      <td>13</td>\n",
       "    </tr>\n",
       "  </tbody>\n",
       "</table>\n",
       "<p>5 rows × 33 columns</p>\n",
       "</div>"
      ],
      "text/plain": [
       "  school sex  age address famsize Pstatus  Medu  Fedu     Mjob      Fjob  ...  \\\n",
       "0     GP   F   18       U     GT3       A     4     4  at_home   teacher  ...   \n",
       "1     GP   F   17       U     GT3       T     1     1  at_home     other  ...   \n",
       "2     GP   F   15       U     LE3       T     1     1  at_home     other  ...   \n",
       "3     GP   F   15       U     GT3       T     4     2   health  services  ...   \n",
       "4     GP   F   16       U     GT3       T     3     3    other     other  ...   \n",
       "\n",
       "  famrel freetime  goout  Dalc  Walc health absences  G1  G2  G3  \n",
       "0      4        3      4     1     1      3        4   0  11  11  \n",
       "1      5        3      3     1     1      3        2   9  11  11  \n",
       "2      4        3      2     2     3      3        6  12  13  12  \n",
       "3      3        2      2     1     1      5        0  14  14  14  \n",
       "4      4        3      2     1     2      5        0  11  13  13  \n",
       "\n",
       "[5 rows x 33 columns]"
      ]
     },
     "execution_count": 16,
     "metadata": {},
     "output_type": "execute_result"
    }
   ],
   "source": [
    "studentData.head()"
   ]
  },
  {
   "cell_type": "markdown",
   "metadata": {},
   "source": [
    "#### Writing CSV\n",
    "##### df.to_csv(filepath)"
   ]
  },
  {
   "cell_type": "code",
   "execution_count": 17,
   "metadata": {},
   "outputs": [
    {
     "data": {
      "text/plain": [
       "school        object\n",
       "sex           object\n",
       "age            int64\n",
       "address       object\n",
       "famsize       object\n",
       "Pstatus       object\n",
       "Medu           int64\n",
       "Fedu           int64\n",
       "Mjob          object\n",
       "Fjob          object\n",
       "reason        object\n",
       "guardian      object\n",
       "traveltime     int64\n",
       "studytime      int64\n",
       "failures       int64\n",
       "schoolsup     object\n",
       "famsup        object\n",
       "paid          object\n",
       "activities    object\n",
       "nursery       object\n",
       "higher        object\n",
       "internet      object\n",
       "romantic      object\n",
       "famrel         int64\n",
       "freetime       int64\n",
       "goout          int64\n",
       "Dalc           int64\n",
       "Walc           int64\n",
       "health         int64\n",
       "absences       int64\n",
       "G1             int64\n",
       "G2             int64\n",
       "G3             int64\n",
       "dtype: object"
      ]
     },
     "execution_count": 17,
     "metadata": {},
     "output_type": "execute_result"
    }
   ],
   "source": [
    "# Data Types \n",
    "studentData.dtypes"
   ]
  },
  {
   "cell_type": "code",
   "execution_count": 18,
   "metadata": {},
   "outputs": [
    {
     "name": "stdout",
     "output_type": "stream",
     "text": [
      "<class 'pandas.core.frame.DataFrame'>\n",
      "RangeIndex: 649 entries, 0 to 648\n",
      "Data columns (total 33 columns):\n",
      " #   Column      Non-Null Count  Dtype \n",
      "---  ------      --------------  ----- \n",
      " 0   school      649 non-null    object\n",
      " 1   sex         649 non-null    object\n",
      " 2   age         649 non-null    int64 \n",
      " 3   address     649 non-null    object\n",
      " 4   famsize     649 non-null    object\n",
      " 5   Pstatus     649 non-null    object\n",
      " 6   Medu        649 non-null    int64 \n",
      " 7   Fedu        649 non-null    int64 \n",
      " 8   Mjob        649 non-null    object\n",
      " 9   Fjob        649 non-null    object\n",
      " 10  reason      649 non-null    object\n",
      " 11  guardian    649 non-null    object\n",
      " 12  traveltime  649 non-null    int64 \n",
      " 13  studytime   649 non-null    int64 \n",
      " 14  failures    649 non-null    int64 \n",
      " 15  schoolsup   649 non-null    object\n",
      " 16  famsup      649 non-null    object\n",
      " 17  paid        649 non-null    object\n",
      " 18  activities  649 non-null    object\n",
      " 19  nursery     649 non-null    object\n",
      " 20  higher      649 non-null    object\n",
      " 21  internet    649 non-null    object\n",
      " 22  romantic    649 non-null    object\n",
      " 23  famrel      649 non-null    int64 \n",
      " 24  freetime    649 non-null    int64 \n",
      " 25  goout       649 non-null    int64 \n",
      " 26  Dalc        649 non-null    int64 \n",
      " 27  Walc        649 non-null    int64 \n",
      " 28  health      649 non-null    int64 \n",
      " 29  absences    649 non-null    int64 \n",
      " 30  G1          649 non-null    int64 \n",
      " 31  G2          649 non-null    int64 \n",
      " 32  G3          649 non-null    int64 \n",
      "dtypes: int64(16), object(17)\n",
      "memory usage: 167.4+ KB\n"
     ]
    }
   ],
   "source": [
    "studentData.info()"
   ]
  },
  {
   "cell_type": "code",
   "execution_count": 19,
   "metadata": {},
   "outputs": [
    {
     "name": "stdout",
     "output_type": "stream",
     "text": [
      "<class 'pandas.core.frame.DataFrame'>\n",
      "RangeIndex: 649 entries, 0 to 648\n",
      "Data columns (total 33 columns):\n",
      " #   Column      Non-Null Count  Dtype  \n",
      "---  ------      --------------  -----  \n",
      " 0   school      649 non-null    object \n",
      " 1   sex         649 non-null    object \n",
      " 2   age         649 non-null    int64  \n",
      " 3   address     649 non-null    object \n",
      " 4   famsize     649 non-null    object \n",
      " 5   Pstatus     649 non-null    object \n",
      " 6   Medu        649 non-null    float64\n",
      " 7   Fedu        649 non-null    int64  \n",
      " 8   Mjob        649 non-null    object \n",
      " 9   Fjob        649 non-null    object \n",
      " 10  reason      649 non-null    object \n",
      " 11  guardian    649 non-null    object \n",
      " 12  traveltime  649 non-null    int64  \n",
      " 13  studytime   649 non-null    int64  \n",
      " 14  failures    649 non-null    int64  \n",
      " 15  schoolsup   649 non-null    object \n",
      " 16  famsup      649 non-null    object \n",
      " 17  paid        649 non-null    object \n",
      " 18  activities  649 non-null    object \n",
      " 19  nursery     649 non-null    object \n",
      " 20  higher      649 non-null    object \n",
      " 21  internet    649 non-null    object \n",
      " 22  romantic    649 non-null    object \n",
      " 23  famrel      649 non-null    int64  \n",
      " 24  freetime    649 non-null    int64  \n",
      " 25  goout       649 non-null    int64  \n",
      " 26  Dalc        649 non-null    int64  \n",
      " 27  Walc        649 non-null    int64  \n",
      " 28  health      649 non-null    int64  \n",
      " 29  absences    649 non-null    int64  \n",
      " 30  G1          649 non-null    int64  \n",
      " 31  G2          649 non-null    int64  \n",
      " 32  G3          649 non-null    int64  \n",
      "dtypes: float64(1), int64(15), object(17)\n",
      "memory usage: 167.4+ KB\n"
     ]
    }
   ],
   "source": [
    "# Converting A variable Data Type \n",
    "studentData['Medu'] = studentData['Medu'].astype('float')\n",
    "studentData.info()"
   ]
  },
  {
   "cell_type": "markdown",
   "metadata": {},
   "source": [
    "### Data Selection "
   ]
  },
  {
   "cell_type": "code",
   "execution_count": 20,
   "metadata": {},
   "outputs": [
    {
     "data": {
      "text/plain": [
       "0      18\n",
       "1      17\n",
       "2      15\n",
       "3      15\n",
       "4      16\n",
       "       ..\n",
       "644    19\n",
       "645    18\n",
       "646    18\n",
       "647    17\n",
       "648    18\n",
       "Name: age, Length: 649, dtype: int64"
      ]
     },
     "execution_count": 20,
     "metadata": {},
     "output_type": "execute_result"
    }
   ],
   "source": [
    "# Data Extractng  \n",
    "ageDf = studentData['age']\n",
    "ageDf"
   ]
  },
  {
   "cell_type": "code",
   "execution_count": 21,
   "metadata": {},
   "outputs": [
    {
     "data": {
      "text/html": [
       "<div>\n",
       "<style scoped>\n",
       "    .dataframe tbody tr th:only-of-type {\n",
       "        vertical-align: middle;\n",
       "    }\n",
       "\n",
       "    .dataframe tbody tr th {\n",
       "        vertical-align: top;\n",
       "    }\n",
       "\n",
       "    .dataframe thead th {\n",
       "        text-align: right;\n",
       "    }\n",
       "</style>\n",
       "<table border=\"1\" class=\"dataframe\">\n",
       "  <thead>\n",
       "    <tr style=\"text-align: right;\">\n",
       "      <th></th>\n",
       "      <th>age</th>\n",
       "      <th>address</th>\n",
       "      <th>famsize</th>\n",
       "    </tr>\n",
       "  </thead>\n",
       "  <tbody>\n",
       "    <tr>\n",
       "      <th>0</th>\n",
       "      <td>18</td>\n",
       "      <td>U</td>\n",
       "      <td>GT3</td>\n",
       "    </tr>\n",
       "    <tr>\n",
       "      <th>1</th>\n",
       "      <td>17</td>\n",
       "      <td>U</td>\n",
       "      <td>GT3</td>\n",
       "    </tr>\n",
       "    <tr>\n",
       "      <th>2</th>\n",
       "      <td>15</td>\n",
       "      <td>U</td>\n",
       "      <td>LE3</td>\n",
       "    </tr>\n",
       "    <tr>\n",
       "      <th>3</th>\n",
       "      <td>15</td>\n",
       "      <td>U</td>\n",
       "      <td>GT3</td>\n",
       "    </tr>\n",
       "    <tr>\n",
       "      <th>4</th>\n",
       "      <td>16</td>\n",
       "      <td>U</td>\n",
       "      <td>GT3</td>\n",
       "    </tr>\n",
       "    <tr>\n",
       "      <th>...</th>\n",
       "      <td>...</td>\n",
       "      <td>...</td>\n",
       "      <td>...</td>\n",
       "    </tr>\n",
       "    <tr>\n",
       "      <th>644</th>\n",
       "      <td>19</td>\n",
       "      <td>R</td>\n",
       "      <td>GT3</td>\n",
       "    </tr>\n",
       "    <tr>\n",
       "      <th>645</th>\n",
       "      <td>18</td>\n",
       "      <td>U</td>\n",
       "      <td>LE3</td>\n",
       "    </tr>\n",
       "    <tr>\n",
       "      <th>646</th>\n",
       "      <td>18</td>\n",
       "      <td>U</td>\n",
       "      <td>GT3</td>\n",
       "    </tr>\n",
       "    <tr>\n",
       "      <th>647</th>\n",
       "      <td>17</td>\n",
       "      <td>U</td>\n",
       "      <td>LE3</td>\n",
       "    </tr>\n",
       "    <tr>\n",
       "      <th>648</th>\n",
       "      <td>18</td>\n",
       "      <td>R</td>\n",
       "      <td>LE3</td>\n",
       "    </tr>\n",
       "  </tbody>\n",
       "</table>\n",
       "<p>649 rows × 3 columns</p>\n",
       "</div>"
      ],
      "text/plain": [
       "     age address famsize\n",
       "0     18       U     GT3\n",
       "1     17       U     GT3\n",
       "2     15       U     LE3\n",
       "3     15       U     GT3\n",
       "4     16       U     GT3\n",
       "..   ...     ...     ...\n",
       "644   19       R     GT3\n",
       "645   18       U     LE3\n",
       "646   18       U     GT3\n",
       "647   17       U     LE3\n",
       "648   18       R     LE3\n",
       "\n",
       "[649 rows x 3 columns]"
      ]
     },
     "execution_count": 21,
     "metadata": {},
     "output_type": "execute_result"
    }
   ],
   "source": [
    "# Extracting multiple columns from DataFrame \n",
    "studentSubset1 = studentData[['age','address','famsize']] \n",
    "studentSubset1"
   ]
  },
  {
   "cell_type": "code",
   "execution_count": 22,
   "metadata": {},
   "outputs": [
    {
     "data": {
      "text/plain": [
       "(26, 3)"
      ]
     },
     "execution_count": 22,
     "metadata": {},
     "output_type": "execute_result"
    }
   ],
   "source": [
    "studentSubset2 = studentData.loc[:25,['age','address','famsize']]\n",
    "studentSubset2.shape"
   ]
  },
  {
   "cell_type": "code",
   "execution_count": 23,
   "metadata": {},
   "outputs": [
    {
     "data": {
      "text/plain": [
       "famsize\n",
       "GT3    457\n",
       "LE3    192\n",
       "Name: famsize, dtype: int64"
      ]
     },
     "execution_count": 23,
     "metadata": {},
     "output_type": "execute_result"
    }
   ],
   "source": [
    "# Data Transformation \n",
    "studentData.groupby(['famsize'])['famsize'].agg('count')"
   ]
  },
  {
   "cell_type": "code",
   "execution_count": 24,
   "metadata": {},
   "outputs": [
    {
     "data": {
      "text/plain": [
       "famsize\n",
       "GT3    457\n",
       "LE3    192\n",
       "Name: famsize, dtype: int64"
      ]
     },
     "execution_count": 24,
     "metadata": {},
     "output_type": "execute_result"
    }
   ],
   "source": [
    "aggData = studentData.groupby(['famsize'])['famsize'].agg('count')\n",
    "aggData"
   ]
  },
  {
   "cell_type": "code",
   "execution_count": 25,
   "metadata": {},
   "outputs": [],
   "source": [
    "x = list(aggData.index)\n",
    "y = aggData.values"
   ]
  },
  {
   "cell_type": "code",
   "execution_count": 26,
   "metadata": {},
   "outputs": [],
   "source": [
    "import matplotlib.pyplot as plt \n",
    "%matplotlib inline \n",
    "plt.style.use('ggplot')\n"
   ]
  },
  {
   "cell_type": "code",
   "execution_count": 27,
   "metadata": {},
   "outputs": [
    {
     "data": {
      "image/png": "[encoded data removed]",
      "text/plain": [
       "<Figure size 640x480 with 1 Axes>"
      ]
     },
     "metadata": {},
     "output_type": "display_data"
    }
   ],
   "source": [
    "# Plotting the data \n",
    "plt.bar(x, y, color='maroon') \n",
    "plt.xlabel(\"Family Sizes\") \n",
    "plt.ylabel(\"Count of Students \")\n",
    "plt.title(\"Distribution of students against family sizes\") \n",
    "plt.show()"
   ]
  },
  {
   "cell_type": "markdown",
   "metadata": {},
   "source": [
    "### Time Series"
   ]
  },
  {
   "cell_type": "code",
   "execution_count": 28,
   "metadata": {},
   "outputs": [
    {
     "name": "stdout",
     "output_type": "stream",
     "text": [
      "2021-01-15 00:00:00\n"
     ]
    }
   ],
   "source": [
    "date_1 = pd.to_datetime('15th of January, 2021')\n",
    "print(date_1)"
   ]
  },
  {
   "cell_type": "code",
   "execution_count": 29,
   "metadata": {},
   "outputs": [
    {
     "name": "stdout",
     "output_type": "stream",
     "text": [
      "2021-02-09 00:00:00\n"
     ]
    }
   ],
   "source": [
    "newdate = date_1 + pd.to_timedelta(25, unit = 'D')\n",
    "print(newdate)"
   ]
  },
  {
   "cell_type": "code",
   "execution_count": 30,
   "metadata": {},
   "outputs": [
    {
     "data": {
      "text/plain": [
       "DatetimeIndex(['2021-02-09', '2021-02-10', '2021-02-11', '2021-02-12',\n",
       "               '2021-02-13', '2021-02-14', '2021-02-15'],\n",
       "              dtype='datetime64[ns]', freq='D')"
      ]
     },
     "execution_count": 30,
     "metadata": {},
     "output_type": "execute_result"
    }
   ],
   "source": [
    "# Getting All Dates with in a window \n",
    "futuredate = pd.date_range(start = newdate, periods = 7, freq = 'D')\n",
    "futuredate"
   ]
  },
  {
   "cell_type": "code",
   "execution_count": 31,
   "metadata": {},
   "outputs": [],
   "source": [
    "# Code Optimization \n",
    "# Apply and Lambda function \n",
    "# Defining an Apply Function \n",
    "def add5 (x):\n",
    "    return x + 5 "
   ]
  },
  {
   "cell_type": "code",
   "execution_count": 32,
   "metadata": {},
   "outputs": [
    {
     "data": {
      "text/html": [
       "<div>\n",
       "<style scoped>\n",
       "    .dataframe tbody tr th:only-of-type {\n",
       "        vertical-align: middle;\n",
       "    }\n",
       "\n",
       "    .dataframe tbody tr th {\n",
       "        vertical-align: top;\n",
       "    }\n",
       "\n",
       "    .dataframe thead th {\n",
       "        text-align: right;\n",
       "    }\n",
       "</style>\n",
       "<table border=\"1\" class=\"dataframe\">\n",
       "  <thead>\n",
       "    <tr style=\"text-align: right;\">\n",
       "      <th></th>\n",
       "      <th>G1</th>\n",
       "      <th>G2</th>\n",
       "      <th>G3</th>\n",
       "    </tr>\n",
       "  </thead>\n",
       "  <tbody>\n",
       "    <tr>\n",
       "      <th>0</th>\n",
       "      <td>5</td>\n",
       "      <td>16</td>\n",
       "      <td>16</td>\n",
       "    </tr>\n",
       "    <tr>\n",
       "      <th>1</th>\n",
       "      <td>14</td>\n",
       "      <td>16</td>\n",
       "      <td>16</td>\n",
       "    </tr>\n",
       "    <tr>\n",
       "      <th>2</th>\n",
       "      <td>17</td>\n",
       "      <td>18</td>\n",
       "      <td>17</td>\n",
       "    </tr>\n",
       "    <tr>\n",
       "      <th>3</th>\n",
       "      <td>19</td>\n",
       "      <td>19</td>\n",
       "      <td>19</td>\n",
       "    </tr>\n",
       "    <tr>\n",
       "      <th>4</th>\n",
       "      <td>16</td>\n",
       "      <td>18</td>\n",
       "      <td>18</td>\n",
       "    </tr>\n",
       "  </tbody>\n",
       "</table>\n",
       "</div>"
      ],
      "text/plain": [
       "   G1  G2  G3\n",
       "0   5  16  16\n",
       "1  14  16  16\n",
       "2  17  18  17\n",
       "3  19  19  19\n",
       "4  16  18  18"
      ]
     },
     "execution_count": 32,
     "metadata": {},
     "output_type": "execute_result"
    }
   ],
   "source": [
    "# Using Apply \n",
    "df_t = studentData[['G1', 'G2','G3']].apply(add5)\n",
    "df_t.head()"
   ]
  },
  {
   "cell_type": "code",
   "execution_count": 33,
   "metadata": {},
   "outputs": [
    {
     "data": {
      "text/html": [
       "<div>\n",
       "<style scoped>\n",
       "    .dataframe tbody tr th:only-of-type {\n",
       "        vertical-align: middle;\n",
       "    }\n",
       "\n",
       "    .dataframe tbody tr th {\n",
       "        vertical-align: top;\n",
       "    }\n",
       "\n",
       "    .dataframe thead th {\n",
       "        text-align: right;\n",
       "    }\n",
       "</style>\n",
       "<table border=\"1\" class=\"dataframe\">\n",
       "  <thead>\n",
       "    <tr style=\"text-align: right;\">\n",
       "      <th></th>\n",
       "      <th>G1</th>\n",
       "      <th>G2</th>\n",
       "      <th>G3</th>\n",
       "    </tr>\n",
       "  </thead>\n",
       "  <tbody>\n",
       "    <tr>\n",
       "      <th>0</th>\n",
       "      <td>5</td>\n",
       "      <td>16</td>\n",
       "      <td>16</td>\n",
       "    </tr>\n",
       "    <tr>\n",
       "      <th>1</th>\n",
       "      <td>14</td>\n",
       "      <td>16</td>\n",
       "      <td>16</td>\n",
       "    </tr>\n",
       "    <tr>\n",
       "      <th>2</th>\n",
       "      <td>17</td>\n",
       "      <td>18</td>\n",
       "      <td>17</td>\n",
       "    </tr>\n",
       "    <tr>\n",
       "      <th>3</th>\n",
       "      <td>19</td>\n",
       "      <td>19</td>\n",
       "      <td>19</td>\n",
       "    </tr>\n",
       "    <tr>\n",
       "      <th>4</th>\n",
       "      <td>16</td>\n",
       "      <td>18</td>\n",
       "      <td>18</td>\n",
       "    </tr>\n",
       "  </tbody>\n",
       "</table>\n",
       "</div>"
      ],
      "text/plain": [
       "   G1  G2  G3\n",
       "0   5  16  16\n",
       "1  14  16  16\n",
       "2  17  18  17\n",
       "3  19  19  19\n",
       "4  16  18  18"
      ]
     },
     "execution_count": 33,
     "metadata": {},
     "output_type": "execute_result"
    }
   ],
   "source": [
    "df_t2 = studentData[['G1','G2','G3']].apply(lambda x:x+5) \n",
    "df_t2.head()"
   ]
  },
  {
   "cell_type": "markdown",
   "metadata": {},
   "source": [
    "### Utility Functions"
   ]
  },
  {
   "cell_type": "code",
   "execution_count": 34,
   "metadata": {},
   "outputs": [
    {
     "data": {
      "text/plain": [
       "array([1.61715902, 1.8822527 , 0.61561808, 1.96969262, 1.90492883,\n",
       "       2.29702399, 4.14629004, 1.36291909, 1.68536484, 3.48544837])"
      ]
     },
     "execution_count": 34,
     "metadata": {},
     "output_type": "execute_result"
    }
   ],
   "source": [
    "# Utility Functions\n",
    "import numpy as np\n",
    "# 10 Random numbers with mean 2 and SD 1\n",
    "np.random.normal(2.0,1,10)"
   ]
  },
  {
   "cell_type": "markdown",
   "metadata": {},
   "source": [
    "#### Function Workings"
   ]
  },
  {
   "cell_type": "code",
   "execution_count": 35,
   "metadata": {},
   "outputs": [],
   "source": [
    "import random"
   ]
  },
  {
   "cell_type": "code",
   "execution_count": 36,
   "metadata": {},
   "outputs": [],
   "source": [
    "# Initialize a random seed \n",
    "np.random.seed(123)\n",
    "# Create three series\n",
    "ser1 = pd.Series(np.random.normal(3.0, 1, 100)) \n",
    "ser2 = pd.Series(np.random.normal(5.0, 3, 100)) \n",
    "ser3 = pd.Series(np.random.normal(1.0, 0.5, 100))"
   ]
  },
  {
   "cell_type": "code",
   "execution_count": 37,
   "metadata": {},
   "outputs": [
    {
     "data": {
      "text/html": [
       "<div>\n",
       "<style scoped>\n",
       "    .dataframe tbody tr th:only-of-type {\n",
       "        vertical-align: middle;\n",
       "    }\n",
       "\n",
       "    .dataframe tbody tr th {\n",
       "        vertical-align: top;\n",
       "    }\n",
       "\n",
       "    .dataframe thead th {\n",
       "        text-align: right;\n",
       "    }\n",
       "</style>\n",
       "<table border=\"1\" class=\"dataframe\">\n",
       "  <thead>\n",
       "    <tr style=\"text-align: right;\">\n",
       "      <th></th>\n",
       "      <th>V1</th>\n",
       "      <th>V2</th>\n",
       "      <th>V3</th>\n",
       "    </tr>\n",
       "  </thead>\n",
       "  <tbody>\n",
       "    <tr>\n",
       "      <th>0</th>\n",
       "      <td>1.914369</td>\n",
       "      <td>6.926164</td>\n",
       "      <td>1.351655</td>\n",
       "    </tr>\n",
       "    <tr>\n",
       "      <th>1</th>\n",
       "      <td>3.997345</td>\n",
       "      <td>-0.933664</td>\n",
       "      <td>0.700947</td>\n",
       "    </tr>\n",
       "    <tr>\n",
       "      <th>2</th>\n",
       "      <td>3.282978</td>\n",
       "      <td>7.136794</td>\n",
       "      <td>2.100351</td>\n",
       "    </tr>\n",
       "    <tr>\n",
       "      <th>3</th>\n",
       "      <td>1.493705</td>\n",
       "      <td>12.794912</td>\n",
       "      <td>1.344148</td>\n",
       "    </tr>\n",
       "    <tr>\n",
       "      <th>4</th>\n",
       "      <td>2.421400</td>\n",
       "      <td>4.926122</td>\n",
       "      <td>0.996846</td>\n",
       "    </tr>\n",
       "  </tbody>\n",
       "</table>\n",
       "</div>"
      ],
      "text/plain": [
       "         V1         V2        V3\n",
       "0  1.914369   6.926164  1.351655\n",
       "1  3.997345  -0.933664  0.700947\n",
       "2  3.282978   7.136794  2.100351\n",
       "3  1.493705  12.794912  1.344148\n",
       "4  2.421400   4.926122  0.996846"
      ]
     },
     "execution_count": 37,
     "metadata": {},
     "output_type": "execute_result"
    }
   ],
   "source": [
    "Df = pd.concat([ser1,ser2,ser3], axis=1)\n",
    "Df.columns=['V1','V2','V3']\n",
    "Df.head()\n",
    "# Axis =1 indicates concat across columns"
   ]
  },
  {
   "cell_type": "code",
   "execution_count": 38,
   "metadata": {},
   "outputs": [
    {
     "data": {
      "text/plain": [
       "V1    302.710907\n",
       "V2    494.139331\n",
       "V3     95.243434\n",
       "dtype: float64"
      ]
     },
     "execution_count": 38,
     "metadata": {},
     "output_type": "execute_result"
    }
   ],
   "source": [
    "Df.sum(axis=0)\n",
    "# Axis =0, function across rows"
   ]
  },
  {
   "cell_type": "code",
   "execution_count": 39,
   "metadata": {},
   "outputs": [
    {
     "data": {
      "text/plain": [
       "V1    3.027109\n",
       "V2    4.941393\n",
       "V3    0.952434\n",
       "dtype: float64"
      ]
     },
     "execution_count": 39,
     "metadata": {},
     "output_type": "execute_result"
    }
   ],
   "source": [
    "Df.mean(axis=0)\n",
    "# take all row data and compute mean "
   ]
  },
  {
   "cell_type": "code",
   "execution_count": 40,
   "metadata": {},
   "outputs": [
    {
     "data": {
      "text/plain": [
       "0     3.397396\n",
       "1     1.254876\n",
       "2     4.173374\n",
       "3     5.210922\n",
       "4     2.781456\n",
       "        ...   \n",
       "95    0.228614\n",
       "96    2.681817\n",
       "97    2.503941\n",
       "98    2.811963\n",
       "99    2.792288\n",
       "Length: 100, dtype: float64"
      ]
     },
     "execution_count": 40,
     "metadata": {},
     "output_type": "execute_result"
    }
   ],
   "source": [
    "Df.mean(axis=1)"
   ]
  },
  {
   "cell_type": "code",
   "execution_count": 41,
   "metadata": {},
   "outputs": [
    {
     "data": {
      "text/html": [
       "<div>\n",
       "<style scoped>\n",
       "    .dataframe tbody tr th:only-of-type {\n",
       "        vertical-align: middle;\n",
       "    }\n",
       "\n",
       "    .dataframe tbody tr th {\n",
       "        vertical-align: top;\n",
       "    }\n",
       "\n",
       "    .dataframe thead th {\n",
       "        text-align: right;\n",
       "    }\n",
       "</style>\n",
       "<table border=\"1\" class=\"dataframe\">\n",
       "  <thead>\n",
       "    <tr style=\"text-align: right;\">\n",
       "      <th></th>\n",
       "      <th>V1</th>\n",
       "      <th>V2</th>\n",
       "      <th>V3</th>\n",
       "    </tr>\n",
       "  </thead>\n",
       "  <tbody>\n",
       "    <tr>\n",
       "      <th>0</th>\n",
       "      <td>0     0.0\n",
       "1     1.0\n",
       "2     1.0\n",
       "3     0.0\n",
       "4     ...</td>\n",
       "      <td>0     2.0\n",
       "1    -1.0\n",
       "2     2.0\n",
       "3     4.0\n",
       "4     ...</td>\n",
       "      <td>0     0.0\n",
       "1     0.0\n",
       "2     0.0\n",
       "3     0.0\n",
       "4     ...</td>\n",
       "    </tr>\n",
       "    <tr>\n",
       "      <th>1</th>\n",
       "      <td>0     1.914369\n",
       "1     0.997345\n",
       "2     0.282978\n",
       "3...</td>\n",
       "      <td>0     0.926164\n",
       "1     2.066336\n",
       "2     1.136794\n",
       "3...</td>\n",
       "      <td>0     1.351655\n",
       "1     0.700947\n",
       "2     2.100351\n",
       "3...</td>\n",
       "    </tr>\n",
       "  </tbody>\n",
       "</table>\n",
       "</div>"
      ],
      "text/plain": [
       "                                                  V1  \\\n",
       "0  0     0.0\n",
       "1     1.0\n",
       "2     1.0\n",
       "3     0.0\n",
       "4     ...   \n",
       "1  0     1.914369\n",
       "1     0.997345\n",
       "2     0.282978\n",
       "3...   \n",
       "\n",
       "                                                  V2  \\\n",
       "0  0     2.0\n",
       "1    -1.0\n",
       "2     2.0\n",
       "3     4.0\n",
       "4     ...   \n",
       "1  0     0.926164\n",
       "1     2.066336\n",
       "2     1.136794\n",
       "3...   \n",
       "\n",
       "                                                  V3  \n",
       "0  0     0.0\n",
       "1     0.0\n",
       "2     0.0\n",
       "3     0.0\n",
       "4     ...  \n",
       "1  0     1.351655\n",
       "1     0.700947\n",
       "2     2.100351\n",
       "3...  "
      ]
     },
     "execution_count": 41,
     "metadata": {},
     "output_type": "execute_result"
    }
   ],
   "source": [
    "# Apply the divmod function to each of the series \n",
    "Df.apply(lambda x: divmod(x,3))"
   ]
  },
  {
   "cell_type": "code",
   "execution_count": 42,
   "metadata": {},
   "outputs": [
    {
     "data": {
      "text/html": [
       "<div>\n",
       "<style scoped>\n",
       "    .dataframe tbody tr th:only-of-type {\n",
       "        vertical-align: middle;\n",
       "    }\n",
       "\n",
       "    .dataframe tbody tr th {\n",
       "        vertical-align: top;\n",
       "    }\n",
       "\n",
       "    .dataframe thead th {\n",
       "        text-align: right;\n",
       "    }\n",
       "</style>\n",
       "<table border=\"1\" class=\"dataframe\">\n",
       "  <thead>\n",
       "    <tr style=\"text-align: right;\">\n",
       "      <th></th>\n",
       "      <th>V1</th>\n",
       "      <th>V2</th>\n",
       "      <th>V3</th>\n",
       "    </tr>\n",
       "  </thead>\n",
       "  <tbody>\n",
       "    <tr>\n",
       "      <th>0</th>\n",
       "      <td>(0.0, 1.9143693966994388)</td>\n",
       "      <td>(2.0, 0.9261640678154937)</td>\n",
       "      <td>(0.0, 1.3516550589033651)</td>\n",
       "    </tr>\n",
       "    <tr>\n",
       "      <th>1</th>\n",
       "      <td>(1.0, 0.9973454465835858)</td>\n",
       "      <td>(-1.0, 2.0663362054386534)</td>\n",
       "      <td>(0.0, 0.7009473343295873)</td>\n",
       "    </tr>\n",
       "    <tr>\n",
       "      <th>2</th>\n",
       "      <td>(1.0, 0.28297849805199204)</td>\n",
       "      <td>(2.0, 1.1367939064115546)</td>\n",
       "      <td>(0.0, 2.1003510496085642)</td>\n",
       "    </tr>\n",
       "    <tr>\n",
       "      <th>3</th>\n",
       "      <td>(0.0, 1.493705286081908)</td>\n",
       "      <td>(4.0, 0.7949117818079436)</td>\n",
       "      <td>(0.0, 1.3441484651110442)</td>\n",
       "    </tr>\n",
       "    <tr>\n",
       "      <th>4</th>\n",
       "      <td>(0.0, 2.4213997480314635)</td>\n",
       "      <td>(1.0, 1.9261220557055578)</td>\n",
       "      <td>(0.0, 0.9968463745430639)</td>\n",
       "    </tr>\n",
       "    <tr>\n",
       "      <th>...</th>\n",
       "      <td>...</td>\n",
       "      <td>...</td>\n",
       "      <td>...</td>\n",
       "    </tr>\n",
       "    <tr>\n",
       "      <th>95</th>\n",
       "      <td>(1.0, 1.031114458921742)</td>\n",
       "      <td>(-2.0, 1.3068349762420635)</td>\n",
       "      <td>(0.0, 1.347893659569804)</td>\n",
       "    </tr>\n",
       "    <tr>\n",
       "      <th>96</th>\n",
       "      <td>(0.0, 1.9154320879942335)</td>\n",
       "      <td>(1.0, 1.1921195307477372)</td>\n",
       "      <td>(0.0, 1.9379002733568176)</td>\n",
       "    </tr>\n",
       "    <tr>\n",
       "      <th>97</th>\n",
       "      <td>(0.0, 1.6365284553814157)</td>\n",
       "      <td>(1.0, 1.6674478368409789)</td>\n",
       "      <td>(0.0, 1.207847269946217)</td>\n",
       "    </tr>\n",
       "    <tr>\n",
       "      <th>98</th>\n",
       "      <td>(1.0, 0.37940061207813613)</td>\n",
       "      <td>(1.0, 0.9762148513802424)</td>\n",
       "      <td>(0.0, 1.080272210739859)</td>\n",
       "    </tr>\n",
       "    <tr>\n",
       "      <th>99</th>\n",
       "      <td>(0.0, 2.6208235654274477)</td>\n",
       "      <td>(1.0, 1.3461612136911745)</td>\n",
       "      <td>(0.0, 1.4098803048050945)</td>\n",
       "    </tr>\n",
       "  </tbody>\n",
       "</table>\n",
       "<p>100 rows × 3 columns</p>\n",
       "</div>"
      ],
      "text/plain": [
       "                            V1                          V2  \\\n",
       "0    (0.0, 1.9143693966994388)   (2.0, 0.9261640678154937)   \n",
       "1    (1.0, 0.9973454465835858)  (-1.0, 2.0663362054386534)   \n",
       "2   (1.0, 0.28297849805199204)   (2.0, 1.1367939064115546)   \n",
       "3     (0.0, 1.493705286081908)   (4.0, 0.7949117818079436)   \n",
       "4    (0.0, 2.4213997480314635)   (1.0, 1.9261220557055578)   \n",
       "..                         ...                         ...   \n",
       "95    (1.0, 1.031114458921742)  (-2.0, 1.3068349762420635)   \n",
       "96   (0.0, 1.9154320879942335)   (1.0, 1.1921195307477372)   \n",
       "97   (0.0, 1.6365284553814157)   (1.0, 1.6674478368409789)   \n",
       "98  (1.0, 0.37940061207813613)   (1.0, 0.9762148513802424)   \n",
       "99   (0.0, 2.6208235654274477)   (1.0, 1.3461612136911745)   \n",
       "\n",
       "                           V3  \n",
       "0   (0.0, 1.3516550589033651)  \n",
       "1   (0.0, 0.7009473343295873)  \n",
       "2   (0.0, 2.1003510496085642)  \n",
       "3   (0.0, 1.3441484651110442)  \n",
       "4   (0.0, 0.9968463745430639)  \n",
       "..                        ...  \n",
       "95   (0.0, 1.347893659569804)  \n",
       "96  (0.0, 1.9379002733568176)  \n",
       "97   (0.0, 1.207847269946217)  \n",
       "98   (0.0, 1.080272210739859)  \n",
       "99  (0.0, 1.4098803048050945)  \n",
       "\n",
       "[100 rows x 3 columns]"
      ]
     },
     "execution_count": 42,
     "metadata": {},
     "output_type": "execute_result"
    }
   ],
   "source": [
    "# Apply map, gives results in a dataframe \n",
    "Df.applymap(lambda x: divmod(x,3))"
   ]
  },
  {
   "cell_type": "code",
   "execution_count": 43,
   "metadata": {},
   "outputs": [
    {
     "name": "stdout",
     "output_type": "stream",
     "text": [
      "['P', 'a', 'n', 'd', 'a', 's']\n"
     ]
    }
   ],
   "source": [
    "# List Comprehension \n",
    "letters = [letter for letter in 'Pandas']\n",
    "print(letters)"
   ]
  },
  {
   "cell_type": "code",
   "execution_count": 44,
   "metadata": {},
   "outputs": [
    {
     "data": {
      "text/plain": [
       "100"
      ]
     },
     "execution_count": 44,
     "metadata": {},
     "output_type": "execute_result"
    }
   ],
   "source": [
    "# Create a list of characters\n",
    "list1 = [['20']*10,['35']*15,['40']*10,['10']*25,['15']*40]\n",
    "# Convert them into a single list using list comprehension\n",
    "charlist = [x for sublist in list1 for x in sublist] \n",
    "# Display the output \n",
    "len(charlist)"
   ]
  },
  {
   "cell_type": "markdown",
   "metadata": {},
   "source": [
    "newlist = [expression _for_ item _in_ iterable _if_ condition == True]"
   ]
  },
  {
   "cell_type": "code",
   "execution_count": 45,
   "metadata": {},
   "outputs": [
    {
     "data": {
      "text/plain": [
       "0     15\n",
       "1     40\n",
       "2     15\n",
       "3     10\n",
       "4     15\n",
       "      ..\n",
       "95    15\n",
       "96    10\n",
       "97    35\n",
       "98    40\n",
       "99    20\n",
       "Length: 100, dtype: object"
      ]
     },
     "execution_count": 45,
     "metadata": {},
     "output_type": "execute_result"
    }
   ],
   "source": [
    "# Randomly shuffle the character list \n",
    "random.seed(123)\n",
    "random.shuffle(charlist)\n",
    "# Convert the list to a series s\n",
    "ser4 = pd.Series(charlist) \n",
    "ser4"
   ]
  },
  {
   "cell_type": "code",
   "execution_count": 46,
   "metadata": {},
   "outputs": [
    {
     "data": {
      "text/plain": [
       "0     15\n",
       "1     40\n",
       "2     15\n",
       "3     10\n",
       "4     15\n",
       "      ..\n",
       "95    15\n",
       "96    10\n",
       "97    35\n",
       "98    40\n",
       "99    20\n",
       "Length: 100, dtype: int64"
      ]
     },
     "execution_count": 46,
     "metadata": {},
     "output_type": "execute_result"
    }
   ],
   "source": [
    "ser4 = pd.to_numeric(ser4)\n",
    "ser4"
   ]
  },
  {
   "cell_type": "code",
   "execution_count": 47,
   "metadata": {},
   "outputs": [
    {
     "data": {
      "text/html": [
       "<div>\n",
       "<style scoped>\n",
       "    .dataframe tbody tr th:only-of-type {\n",
       "        vertical-align: middle;\n",
       "    }\n",
       "\n",
       "    .dataframe tbody tr th {\n",
       "        vertical-align: top;\n",
       "    }\n",
       "\n",
       "    .dataframe thead th {\n",
       "        text-align: right;\n",
       "    }\n",
       "</style>\n",
       "<table border=\"1\" class=\"dataframe\">\n",
       "  <thead>\n",
       "    <tr style=\"text-align: right;\">\n",
       "      <th></th>\n",
       "      <th>V1</th>\n",
       "      <th>V2</th>\n",
       "      <th>V3</th>\n",
       "      <th>V4</th>\n",
       "    </tr>\n",
       "  </thead>\n",
       "  <tbody>\n",
       "    <tr>\n",
       "      <th>0</th>\n",
       "      <td>1.914369</td>\n",
       "      <td>6.926164</td>\n",
       "      <td>1.351655</td>\n",
       "      <td>15</td>\n",
       "    </tr>\n",
       "    <tr>\n",
       "      <th>1</th>\n",
       "      <td>3.997345</td>\n",
       "      <td>-0.933664</td>\n",
       "      <td>0.700947</td>\n",
       "      <td>40</td>\n",
       "    </tr>\n",
       "    <tr>\n",
       "      <th>2</th>\n",
       "      <td>3.282978</td>\n",
       "      <td>7.136794</td>\n",
       "      <td>2.100351</td>\n",
       "      <td>15</td>\n",
       "    </tr>\n",
       "    <tr>\n",
       "      <th>3</th>\n",
       "      <td>1.493705</td>\n",
       "      <td>12.794912</td>\n",
       "      <td>1.344148</td>\n",
       "      <td>10</td>\n",
       "    </tr>\n",
       "    <tr>\n",
       "      <th>4</th>\n",
       "      <td>2.421400</td>\n",
       "      <td>4.926122</td>\n",
       "      <td>0.996846</td>\n",
       "      <td>15</td>\n",
       "    </tr>\n",
       "    <tr>\n",
       "      <th>...</th>\n",
       "      <td>...</td>\n",
       "      <td>...</td>\n",
       "      <td>...</td>\n",
       "      <td>...</td>\n",
       "    </tr>\n",
       "    <tr>\n",
       "      <th>95</th>\n",
       "      <td>4.031114</td>\n",
       "      <td>-4.693165</td>\n",
       "      <td>1.347894</td>\n",
       "      <td>15</td>\n",
       "    </tr>\n",
       "    <tr>\n",
       "      <th>96</th>\n",
       "      <td>1.915432</td>\n",
       "      <td>4.192120</td>\n",
       "      <td>1.937900</td>\n",
       "      <td>10</td>\n",
       "    </tr>\n",
       "    <tr>\n",
       "      <th>97</th>\n",
       "      <td>1.636528</td>\n",
       "      <td>4.667448</td>\n",
       "      <td>1.207847</td>\n",
       "      <td>35</td>\n",
       "    </tr>\n",
       "    <tr>\n",
       "      <th>98</th>\n",
       "      <td>3.379401</td>\n",
       "      <td>3.976215</td>\n",
       "      <td>1.080272</td>\n",
       "      <td>40</td>\n",
       "    </tr>\n",
       "    <tr>\n",
       "      <th>99</th>\n",
       "      <td>2.620824</td>\n",
       "      <td>4.346161</td>\n",
       "      <td>1.409880</td>\n",
       "      <td>20</td>\n",
       "    </tr>\n",
       "  </tbody>\n",
       "</table>\n",
       "<p>100 rows × 4 columns</p>\n",
       "</div>"
      ],
      "text/plain": [
       "          V1         V2        V3  V4\n",
       "0   1.914369   6.926164  1.351655  15\n",
       "1   3.997345  -0.933664  0.700947  40\n",
       "2   3.282978   7.136794  2.100351  15\n",
       "3   1.493705  12.794912  1.344148  10\n",
       "4   2.421400   4.926122  0.996846  15\n",
       "..       ...        ...       ...  ..\n",
       "95  4.031114  -4.693165  1.347894  15\n",
       "96  1.915432   4.192120  1.937900  10\n",
       "97  1.636528   4.667448  1.207847  35\n",
       "98  3.379401   3.976215  1.080272  40\n",
       "99  2.620824   4.346161  1.409880  20\n",
       "\n",
       "[100 rows x 4 columns]"
      ]
     },
     "execution_count": 47,
     "metadata": {},
     "output_type": "execute_result"
    }
   ],
   "source": [
    "Df = pd.concat([Df,ser4],axis=1) \n",
    "# Renaming the data frame\n",
    "Df.rename(columns={0:'V4'}, inplace=True)\n",
    "# Implace is same as : Df = Df.renamecolumns=({0:'V4'})\n",
    "# Displaying the data frame \n",
    "Df"
   ]
  },
  {
   "cell_type": "code",
   "execution_count": 48,
   "metadata": {},
   "outputs": [
    {
     "data": {
      "text/plain": [
       "array([[ 1.91436940e+00,  6.92616407e+00,  1.35165506e+00,\n",
       "         1.50000000e+01],\n",
       "       [ 3.99734545e+00, -9.33663795e-01,  7.00947334e-01,\n",
       "         4.00000000e+01],\n",
       "       [ 3.28297850e+00,  7.13679391e+00,  2.10035105e+00,\n",
       "         1.50000000e+01],\n",
       "       [ 1.49370529e+00,  1.27949118e+01,  1.34414847e+00,\n",
       "         1.00000000e+01],\n",
       "       [ 2.42139975e+00,  4.92612206e+00,  9.96846375e-01,\n",
       "         1.50000000e+01],\n",
       "       [ 4.65143654e+00,  5.10242639e+00,  8.96668848e-01,\n",
       "         1.50000000e+01],\n",
       "       [ 5.73320757e-01,  5.53864845e+00,  9.56738857e-01,\n",
       "         2.00000000e+01],\n",
       "       [ 2.57108737e+00, -5.85927132e-01,  5.42346465e-01,\n",
       "         1.50000000e+01],\n",
       "       [ 4.26593626e+00,  6.27843992e+00,  9.52398730e-01,\n",
       "         1.50000000e+01],\n",
       "       [ 2.13325960e+00,  1.83770768e-01,  1.13934176e+00,\n",
       "         1.50000000e+01],\n",
       "       [ 2.32111385e+00,  3.71696121e+00,  1.28977081e+00,\n",
       "         3.50000000e+01],\n",
       "       [ 2.90529103e+00,  8.72860865e+00,  1.28984489e+00,\n",
       "         1.50000000e+01],\n",
       "       [ 4.49138963e+00,  2.79434913e+00,  8.62561227e-01,\n",
       "         2.00000000e+01],\n",
       "       [ 2.36109800e+00,  6.50374697e+00,  2.91958874e-01,\n",
       "         2.00000000e+01],\n",
       "       [ 2.55601804e+00,  8.03821716e+00,  6.65448687e-01,\n",
       "         2.00000000e+01],\n",
       "       [ 2.56564872e+00,  5.83622257e+00,  1.80609652e+00,\n",
       "         1.00000000e+01],\n",
       "       [ 5.20593008e+00,  8.87154590e-01,  1.44802916e+00,\n",
       "         3.50000000e+01],\n",
       "       [ 5.18678609e+00,  4.00257417e+00,  1.18480979e+00,\n",
       "         1.00000000e+01],\n",
       "       [ 4.00405390e+00,  1.08782340e+01,  6.19352878e-01,\n",
       "         3.50000000e+01],\n",
       "       [ 3.38618640e+00, -1.07513729e+00,  1.00182258e+00,\n",
       "         4.00000000e+01],\n",
       "       [ 3.73736858e+00,  4.17264196e+00,  3.72165657e-01,\n",
       "         3.50000000e+01],\n",
       "       [ 4.49073203e+00,  3.34367579e+00,  7.24031562e-01,\n",
       "         1.50000000e+01],\n",
       "       [ 2.06416613e+00,  5.36224209e+00,  8.77398329e-01,\n",
       "         1.50000000e+01],\n",
       "       [ 4.17582904e+00,  7.24464685e+00,  8.19180034e-01,\n",
       "         3.50000000e+01],\n",
       "       [ 1.74611933e+00,  9.82607290e+00,  1.47830097e+00,\n",
       "         1.50000000e+01],\n",
       "       [ 2.36224850e+00,  4.18930282e+00,  2.90637043e-01,\n",
       "         1.50000000e+01],\n",
       "       [ 3.90710520e+00,  7.43702399e+00,  5.67283864e-01,\n",
       "         1.00000000e+01],\n",
       "       [ 1.57131930e+00,  6.49922043e+00,  3.12656014e-01,\n",
       "         3.50000000e+01],\n",
       "       [ 2.85993128e+00,  6.42304189e+00,  3.81323394e-01,\n",
       "         1.00000000e+01],\n",
       "       [ 2.13824510e+00,  3.30822821e+00,  1.06202795e+00,\n",
       "         1.00000000e+01],\n",
       "       [ 2.74438063e+00,  2.00803559e+00,  1.99779733e-01,\n",
       "         1.00000000e+01],\n",
       "       [ 2.01410895e-01,  1.69987066e+00,  1.37693439e+00,\n",
       "         1.50000000e+01],\n",
       "       [ 1.22846690e+00,  2.73068837e+00,  8.76592112e-01,\n",
       "         1.50000000e+01],\n",
       "       [ 2.30012277e+00,  5.96505973e+00,  1.03439417e+00,\n",
       "         1.50000000e+01],\n",
       "       [ 3.92746243e+00,  7.28284818e+00,  1.16128837e+00,\n",
       "         3.50000000e+01],\n",
       "       [ 2.82636432e+00,  5.97040654e+00,  7.82916740e-01,\n",
       "         4.00000000e+01],\n",
       "       [ 3.00284592e+00,  3.35313471e+00,  1.51623986e+00,\n",
       "         1.00000000e+01],\n",
       "       [ 3.68822271e+00,  1.04179103e+01,  9.02828637e-01,\n",
       "         1.50000000e+01],\n",
       "       [ 2.12046366e+00,  9.55659687e+00,  1.29703513e+00,\n",
       "         1.00000000e+01],\n",
       "       [ 3.28362732e+00,  3.93799966e+00,  9.00443809e-01,\n",
       "         1.50000000e+01],\n",
       "       [ 2.19463348e+00,  2.52970578e+00,  1.14543719e+00,\n",
       "         4.00000000e+01],\n",
       "       [ 1.27233051e+00,  5.39064486e+00,  1.13983134e+00,\n",
       "         4.00000000e+01],\n",
       "       [ 2.60910021e+00,  8.80189594e+00,  1.12498497e+00,\n",
       "         1.00000000e+01],\n",
       "       [ 3.57380586e+00,  5.99829493e+00,  5.12846075e-01,\n",
       "         4.00000000e+01],\n",
       "       [ 3.33858905e+00,  6.66964611e+00,  1.21793789e+00,\n",
       "         1.50000000e+01],\n",
       "       [ 2.98816951e+00,  4.36375963e+00,  8.40521505e-01,\n",
       "         1.50000000e+01],\n",
       "       [ 5.39236527e+00,  6.36881269e+00,  1.31524402e+00,\n",
       "         1.50000000e+01],\n",
       "       [ 3.41291216e+00,  9.63363335e+00, -7.62467222e-02,\n",
       "         1.00000000e+01],\n",
       "       [ 3.97873601e+00,  4.28099366e+00,  2.67441889e-01,\n",
       "         1.50000000e+01],\n",
       "       [ 5.23814334e+00,  5.42992320e+00,  1.18172278e+00,\n",
       "         1.00000000e+01],\n",
       "       [ 1.70591468e+00,  5.76144943e+00,  1.93146379e+00,\n",
       "         1.50000000e+01],\n",
       "       [ 1.96121179e+00,  5.85117607e+00,  1.41752937e+00,\n",
       "         1.00000000e+01],\n",
       "       [ 4.74371223e+00,  7.64333372e-01,  6.58774533e-01,\n",
       "         1.00000000e+01],\n",
       "       [ 2.20193726e+00, -6.30605968e-01,  1.53973792e-01,\n",
       "         4.00000000e+01],\n",
       "       [ 3.02968323e+00,  1.94103479e+00,  1.37134311e+00,\n",
       "         3.50000000e+01],\n",
       "       [ 4.06931597e+00,  5.50382689e+00,  9.59708389e-01,\n",
       "         3.50000000e+01],\n",
       "       [ 3.89070639e+00,  6.66156850e+00,  1.29535211e+00,\n",
       "         1.00000000e+01],\n",
       "       [ 4.75488618e+00,  3.40797632e+00,  1.05764936e+00,\n",
       "         1.50000000e+01],\n",
       "       [ 4.49564414e+00,  9.13177245e+00,  1.01482146e+00,\n",
       "         1.00000000e+01],\n",
       "       [ 4.06939267e+00,  4.57047208e+00,  2.47931272e+00,\n",
       "         1.50000000e+01],\n",
       "       [ 2.22729129e+00,  5.06094799e+00,  9.96935019e-01,\n",
       "         1.50000000e+01],\n",
       "       [ 3.79486267e+00,  4.41810839e+00,  9.20377395e-01,\n",
       "         4.00000000e+01],\n",
       "       [ 3.31427199e+00,  5.40208038e+00,  9.39275662e-01,\n",
       "         1.00000000e+01],\n",
       "       [ 1.67373454e+00,  7.11342222e+00,  7.08231642e-01,\n",
       "         1.50000000e+01],\n",
       "       [ 4.41729905e+00,  6.99696031e+00,  1.49506645e+00,\n",
       "         1.00000000e+01],\n",
       "       [ 3.80723653e+00,  2.30473118e+00,  8.23122833e-01,\n",
       "         2.00000000e+01],\n",
       "       [ 3.04549008e+00,  9.57099133e+00,  1.31797135e+00,\n",
       "         3.50000000e+01],\n",
       "       [ 2.76690794e+00,  1.71492063e+00,  1.14230151e+00,\n",
       "         3.50000000e+01],\n",
       "       [ 1.80169886e+00,  5.23768104e+00,  1.60949293e+00,\n",
       "         1.50000000e+01],\n",
       "       [ 3.19952407e+00,  4.17681028e+00,  1.21008980e+00,\n",
       "         2.00000000e+01],\n",
       "       [ 3.46843912e+00,  1.85302497e+00,  3.93307610e-01,\n",
       "         1.50000000e+01],\n",
       "       [ 2.16884502e+00,  4.77463824e+00,  3.36756107e-01,\n",
       "         1.00000000e+01],\n",
       "       [ 4.16220405e+00,  2.77755868e+00,  1.70418457e+00,\n",
       "         1.00000000e+01],\n",
       "       [ 1.90279695e+00,  5.21872173e+00,  6.95644598e-01,\n",
       "         1.50000000e+01],\n",
       "       [ 8.76899650e-01,  6.20925788e+00,  3.39698710e-01,\n",
       "         2.00000000e+01],\n",
       "       [ 4.03972709e+00,  9.41578811e+00,  6.65190700e-01,\n",
       "         1.50000000e+01],\n",
       "       [ 2.59663396e+00,  5.92215266e+00,  1.63231264e+00,\n",
       "         1.50000000e+01],\n",
       "       [ 2.87397041e+00,  3.16632398e+00,  2.89893501e-01,\n",
       "         1.50000000e+01],\n",
       "       [ 2.16248328e+00,  3.82514057e+00,  5.66752398e-01,\n",
       "         1.00000000e+01],\n",
       "       [ 1.39403724e+00,  5.41993432e+00,  6.66596246e-01,\n",
       "         2.00000000e+01],\n",
       "       [ 4.25523737e+00,  5.28038249e+00,  3.74405063e-01,\n",
       "         1.50000000e+01],\n",
       "       [ 2.31113102e+00,  9.37876780e+00,  4.07836331e-01,\n",
       "         4.00000000e+01],\n",
       "       [ 4.66095249e+00,  9.18605879e+00,  2.40946012e-01,\n",
       "         1.50000000e+01],\n",
       "       [ 3.80730819e+00,  3.92319222e+00,  7.69406293e-01,\n",
       "         1.50000000e+01],\n",
       "       [ 2.68524185e+00,  3.35407362e+00,  8.22545584e-01,\n",
       "         1.50000000e+01],\n",
       "       [ 1.91409760e+00, -2.67116381e+00,  6.58730923e-01,\n",
       "         3.50000000e+01],\n",
       "       [ 2.26753801e+00,  3.35323876e+00,  1.73151081e-01,\n",
       "         3.50000000e+01],\n",
       "       [ 1.78747687e+00,  2.06582688e+00,  1.62666797e+00,\n",
       "         1.50000000e+01],\n",
       "       [ 5.08711336e+00,  3.93552663e+00,  3.35460585e-01,\n",
       "         1.00000000e+01],\n",
       "       [ 3.16444123e+00,  6.17475273e+00,  1.13901686e+00,\n",
       "         1.00000000e+01],\n",
       "       [ 4.15020554e+00,  5.53157699e+00,  4.62616703e-01,\n",
       "         1.50000000e+01],\n",
       "       [ 1.73264795e+00,  4.91009598e+00,  1.33415843e+00,\n",
       "         1.50000000e+01],\n",
       "       [ 3.18103513e+00,  5.59874633e+00,  1.47791618e+00,\n",
       "         1.00000000e+01],\n",
       "       [ 4.17786194e+00,  4.62164668e+00,  5.61193207e-01,\n",
       "         2.00000000e+01],\n",
       "       [ 2.66498924e+00,  5.59105680e+00,  3.81421352e-02,\n",
       "         3.50000000e+01],\n",
       "       [ 4.03111446e+00, -4.69316502e+00,  1.34789366e+00,\n",
       "         1.50000000e+01],\n",
       "       [ 1.91543209e+00,  4.19211953e+00,  1.93790027e+00,\n",
       "         1.00000000e+01],\n",
       "       [ 1.63652846e+00,  4.66744784e+00,  1.20784727e+00,\n",
       "         3.50000000e+01],\n",
       "       [ 3.37940061e+00,  3.97621485e+00,  1.08027221e+00,\n",
       "         4.00000000e+01],\n",
       "       [ 2.62082357e+00,  4.34616121e+00,  1.40988030e+00,\n",
       "         2.00000000e+01]])"
      ]
     },
     "execution_count": 48,
     "metadata": {},
     "output_type": "execute_result"
    }
   ],
   "source": [
    "numpArray = Df.to_numpy()\n",
    "numpArray"
   ]
  },
  {
   "cell_type": "markdown",
   "metadata": {},
   "source": [
    "## Data Modeling \n",
    "Imputation , Scaling and Normalization"
   ]
  },
  {
   "cell_type": "code",
   "execution_count": 49,
   "metadata": {},
   "outputs": [],
   "source": [
    "# Sampling 80% of data as train data \n",
    "train=studentData.sample(frac=0.8,random_state=123)\n",
    "# Rest of the data is taken as test data \n",
    "test=studentData.drop(train.index)"
   ]
  },
  {
   "cell_type": "code",
   "execution_count": 50,
   "metadata": {},
   "outputs": [
    {
     "name": "stdout",
     "output_type": "stream",
     "text": [
      "Shape of the training data (519, 33)\n",
      "Shape of the test data (130, 33)\n"
     ]
    }
   ],
   "source": [
    "print('Shape of the training data',train.shape) \n",
    "print('Shape of the test data',test.shape)"
   ]
  }
 ],
 "metadata": {
  "kernelspec": {
   "display_name": "Python 3.9.12 ('base')",
   "language": "python",
   "name": "python3"
  },
  "language_info": {
   "codemirror_mode": {
    "name": "ipython",
    "version": 3
   },
   "file_extension": ".py",
   "mimetype": "text/x-python",
   "name": "python",
   "nbconvert_exporter": "python",
   "pygments_lexer": "ipython3",
   "version": "3.9.12"
  },
  "orig_nbformat": 4,
  "vscode": {
   "interpreter": {
    "hash": "19d1d53a962d236aa061289c2ac16dc8e6d9648c89fe79f459ae9a3493bc67b4"
   }
  }
 },
 "nbformat": 4,
 "nbformat_minor": 2
}
