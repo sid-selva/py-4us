{
 "cells": [
  {
   "cell_type": "code",
   "execution_count": null,
   "metadata": {},
   "outputs": [],
   "source": [
    "import pandas as pd\n",
    "import random"
   ]
  },
  {
   "cell_type": "code",
   "execution_count": null,
   "metadata": {},
   "outputs": [],
   "source": [
    "Store1 = pd.read_csv('data\\Store1.csv')\n",
    "Store1.head(10)"
   ]
  },
  {
   "cell_type": "code",
   "execution_count": null,
   "metadata": {},
   "outputs": [],
   "source": [
    "Store2 = pd.read_csv('data\\Store2.csv')\n",
    "Store2.head()"
   ]
  },
  {
   "cell_type": "code",
   "execution_count": null,
   "metadata": {},
   "outputs": [],
   "source": [
    "# Use double [[]] when calling more than one columns \n",
    "Store1[['Grocery_sales','Stationary_sales']].sum(axis=0)"
   ]
  },
  {
   "cell_type": "code",
   "execution_count": null,
   "metadata": {},
   "outputs": [],
   "source": [
    "(Store1[['Grocery_sales','Stationary_sales']].sum(axis=0)).sum()"
   ]
  },
  {
   "cell_type": "code",
   "execution_count": null,
   "metadata": {},
   "outputs": [],
   "source": [
    "(Store2[['Grocery_sales','Stationary_sales']].sum(axis=0)).sum()"
   ]
  },
  {
   "cell_type": "code",
   "execution_count": null,
   "metadata": {},
   "outputs": [],
   "source": [
    "#highest sales for groceries \n",
    "print('Store 1 ', Store1[['Grocery_sales','Stationary_sales']].sum(axis=0))\n",
    "print('Store 2 ', Store2[['Grocery_sales','Stationary_sales']].sum(axis=0))"
   ]
  },
  {
   "cell_type": "code",
   "execution_count": null,
   "metadata": {},
   "outputs": [],
   "source": [
    "Store1[['Grocery_sales','Stationary_sales']].sum(axis=1)"
   ]
  },
  {
   "cell_type": "code",
   "execution_count": null,
   "metadata": {},
   "outputs": [],
   "source": [
    "#Filtering March in Months\n",
    "mar_s1 = Store1[Store1['Months'].eq('Mar')]\n",
    "mar_s2 = Store2[Store2['Months'].eq('Mar')]\n",
    "\n",
    "print('Store1 March Sales :', (mar_s1[['Stationary_sales','Grocery_sales']].sum(axis=0)).sum())\n",
    "print('Store2 March Sales :', (mar_s2[['Stationary_sales','Grocery_sales']].sum(axis=0)).sum())"
   ]
  },
  {
   "cell_type": "code",
   "execution_count": null,
   "metadata": {},
   "outputs": [],
   "source": [
    "len(Store1[Store1['Stationary_sales'].gt(Store2['Stationary_sales'])])"
   ]
  }
 ],
 "metadata": {
  "kernelspec": {
   "display_name": "Python 3.9.12 ('base')",
   "language": "python",
   "name": "python3"
  },
  "language_info": {
   "codemirror_mode": {
    "name": "ipython",
    "version": 3
   },
   "file_extension": ".py",
   "mimetype": "text/x-python",
   "name": "python",
   "nbconvert_exporter": "python",
   "pygments_lexer": "ipython3",
   "version": "3.9.12"
  },
  "orig_nbformat": 4,
  "vscode": {
   "interpreter": {
    "hash": "19d1d53a962d236aa061289c2ac16dc8e6d9648c89fe79f459ae9a3493bc67b4"
   }
  }
 },
 "nbformat": 4,
 "nbformat_minor": 2
}
