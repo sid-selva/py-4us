{
 "cells": [
  {
   "cell_type": "code",
   "execution_count": null,
   "metadata": {},
   "outputs": [],
   "source": [
    "import pandas as pd\n",
    "import random "
   ]
  },
  {
   "cell_type": "code",
   "execution_count": null,
   "metadata": {},
   "outputs": [],
   "source": [
    "# Create a list of characters and convert it to a series \n",
    "random.seed(123)\n",
    "list1 = [['A']*3,['B']*5,['C']*7]\n",
    "charlist = [x for sublist in list1 for x in sublist] \n",
    "random.shuffle(charlist) \n",
    "# Creating a series from the list \n",
    "ser1 = pd.Series(charlist) \n",
    "ser1"
   ]
  },
  {
   "cell_type": "code",
   "execution_count": null,
   "metadata": {},
   "outputs": [],
   "source": [
    "# Create a series of numerical elements by random sampling\n",
    "random.seed(123)\n",
    "ser2 = pd.Series(random.sample(range(10, 100), 15)) \n",
    "ser2"
   ]
  },
  {
   "cell_type": "code",
   "execution_count": null,
   "metadata": {},
   "outputs": [],
   "source": [
    "# Creating a products data frame \n",
    "prodDf1 = pd.concat([ser1,ser2],axis=1) \n",
    "prodDf1.columns=['Product','Sales'] \n",
    "prodDf1"
   ]
  },
  {
   "cell_type": "code",
   "execution_count": null,
   "metadata": {},
   "outputs": [],
   "source": [
    "display(prodDf1)"
   ]
  },
  {
   "cell_type": "code",
   "execution_count": null,
   "metadata": {},
   "outputs": [],
   "source": [
    "print(prodDf1)"
   ]
  },
  {
   "cell_type": "code",
   "execution_count": null,
   "metadata": {},
   "outputs": [],
   "source": [
    "# Create the second series of products \n",
    "random.seed(321)\n",
    "list1 = [['A']*2,['B']*8,['C']*5]\n",
    "charlist = [x for sublist in list1 for x in sublist] \n",
    "random.shuffle(charlist) \n",
    "ser3 = pd.Series(charlist)"
   ]
  },
  {
   "cell_type": "code",
   "execution_count": null,
   "metadata": {},
   "outputs": [],
   "source": [
    "# Creating sales figures \n",
    "random.seed(321)\n",
    "ser4 = pd.Series(random.sample(range(10, 100), 15))"
   ]
  },
  {
   "cell_type": "code",
   "execution_count": null,
   "metadata": {},
   "outputs": [],
   "source": [
    "# Creating a products data frame \n",
    "prodDf2 = pd.concat([ser3,ser4],axis=1) \n",
    "prodDf2.columns=['Product','Sales'] \n",
    "prodDf2"
   ]
  },
  {
   "cell_type": "code",
   "execution_count": null,
   "metadata": {},
   "outputs": [],
   "source": [
    "# How many values equal to 45 (or any number)\n",
    "prodDf2['Sales'].eq(45)"
   ]
  },
  {
   "cell_type": "code",
   "execution_count": null,
   "metadata": {},
   "outputs": [],
   "source": [
    "# Comparing Values \n",
    "prodDf2[prodDf2['Sales'].eq(45)]"
   ]
  },
  {
   "cell_type": "code",
   "execution_count": null,
   "metadata": {},
   "outputs": [],
   "source": [
    "# greater Than\n",
    "prodDf2['Sales'].gt(45)"
   ]
  },
  {
   "cell_type": "code",
   "execution_count": null,
   "metadata": {},
   "outputs": [],
   "source": [
    "prodDf2[prodDf2['Sales'].gt(45)]"
   ]
  },
  {
   "cell_type": "code",
   "execution_count": null,
   "metadata": {},
   "outputs": [],
   "source": [
    "# Instead of number 45, can use another series (vector)\n",
    "prodDf2['Sales'].gt(prodDf1['Sales'])"
   ]
  },
  {
   "cell_type": "code",
   "execution_count": null,
   "metadata": {},
   "outputs": [],
   "source": [
    "# Subset\n",
    "prodDf2[prodDf2['Sales'].gt(prodDf1['Sales'])]"
   ]
  },
  {
   "cell_type": "code",
   "execution_count": null,
   "metadata": {},
   "outputs": [],
   "source": [
    "# Lessthan \n",
    "prodDf2['Sales'].lt(45)"
   ]
  },
  {
   "cell_type": "code",
   "execution_count": null,
   "metadata": {},
   "outputs": [],
   "source": [
    "prodDf2[prodDf2['Sales'].lt(prodDf1['Sales'])]"
   ]
  },
  {
   "cell_type": "code",
   "execution_count": null,
   "metadata": {},
   "outputs": [],
   "source": [
    "# iloc to use Index\n",
    "prodDf2.iloc[[2,5,6,8]]"
   ]
  },
  {
   "cell_type": "code",
   "execution_count": null,
   "metadata": {},
   "outputs": [],
   "source": [
    "# Groupby and Summarise \n",
    "tab1 = prodDf1.groupby(['Product']).agg('sum') \n",
    "tab2 = prodDf2.groupby(['Product']).agg('sum') \n",
    "print(tab1) \n",
    "print(tab2)"
   ]
  },
  {
   "cell_type": "code",
   "execution_count": null,
   "metadata": {},
   "outputs": [],
   "source": [
    "# Merge as in outer Join \n",
    "tab3 = pd.DataFrame(pd.merge(tab1,tab2,on=['Product'])) \n",
    "tab3.columns = ['Sales1','Sales2'] \n",
    "tab3"
   ]
  }
 ],
 "metadata": {
  "kernelspec": {
   "display_name": "Python 3.9.12 ('base')",
   "language": "python",
   "name": "python3"
  },
  "language_info": {
   "codemirror_mode": {
    "name": "ipython",
    "version": 3
   },
   "file_extension": ".py",
   "mimetype": "text/x-python",
   "name": "python",
   "nbconvert_exporter": "python",
   "pygments_lexer": "ipython3",
   "version": "3.9.12"
  },
  "orig_nbformat": 4,
  "vscode": {
   "interpreter": {
    "hash": "19d1d53a962d236aa061289c2ac16dc8e6d9648c89fe79f459ae9a3493bc67b4"
   }
  }
 },
 "nbformat": 4,
 "nbformat_minor": 2
}
